{
 "cells": [
  {
   "cell_type": "code",
   "execution_count": 1,
   "metadata": {},
   "outputs": [],
   "source": [
    "# first we will learn about general Exception and specific exception"
   ]
  },
  {
   "cell_type": "code",
   "execution_count": 2,
   "metadata": {},
   "outputs": [
    {
     "ename": "NameError",
     "evalue": "name 'b' is not defined",
     "output_type": "error",
     "traceback": [
      "\u001b[1;31m---------------------------------------------------------------------------\u001b[0m",
      "\u001b[1;31mNameError\u001b[0m                                 Traceback (most recent call last)",
      "\u001b[1;32m<ipython-input-2-c65d21105ee3>\u001b[0m in \u001b[0;36m<module>\u001b[1;34m\u001b[0m\n\u001b[1;32m----> 1\u001b[1;33m \u001b[0ma\u001b[0m\u001b[1;33m=\u001b[0m\u001b[0mb\u001b[0m \u001b[1;31m# below we see that its a NameError\u001b[0m\u001b[1;33m\u001b[0m\u001b[1;33m\u001b[0m\u001b[0m\n\u001b[0m",
      "\u001b[1;31mNameError\u001b[0m: name 'b' is not defined"
     ]
    }
   ],
   "source": [
    "a=b # below we see that its a NameError"
   ]
  },
  {
   "cell_type": "code",
   "execution_count": 3,
   "metadata": {},
   "outputs": [
    {
     "name": "stdout",
     "output_type": "stream",
     "text": [
      "name 'b' is not defined\n"
     ]
    }
   ],
   "source": [
    "# with \"Exception\" class we can catch any erros\n",
    "\n",
    "try:\n",
    "    a=b\n",
    "except Exception as ex: # this catches any exception\n",
    "    print(ex)"
   ]
  },
  {
   "cell_type": "code",
   "execution_count": 4,
   "metadata": {},
   "outputs": [
    {
     "name": "stdout",
     "output_type": "stream",
     "text": [
      "The variable is not defined\n"
     ]
    }
   ],
   "source": [
    "# next we will try to have a specific exception \n",
    "\n",
    "try:\n",
    "    a=b\n",
    "    \n",
    "except NameError: # this block will catch any NameError\n",
    "    print('The variable is not defined')\n",
    "except Exception as ex: # this catches any exception\n",
    "    print(ex)"
   ]
  },
  {
   "cell_type": "code",
   "execution_count": 5,
   "metadata": {},
   "outputs": [],
   "source": [
    "# Note : the genral class Exception should be always return at the last\n",
    "# the reason being if our specific exception doesnt catch it then general exception will catch it"
   ]
  },
  {
   "cell_type": "code",
   "execution_count": 6,
   "metadata": {},
   "outputs": [
    {
     "ename": "TypeError",
     "evalue": "unsupported operand type(s) for +: 'int' and 'str'",
     "output_type": "error",
     "traceback": [
      "\u001b[1;31m---------------------------------------------------------------------------\u001b[0m",
      "\u001b[1;31mTypeError\u001b[0m                                 Traceback (most recent call last)",
      "\u001b[1;32m<ipython-input-6-ca3f4283a402>\u001b[0m in \u001b[0;36m<module>\u001b[1;34m\u001b[0m\n\u001b[1;32m----> 1\u001b[1;33m \u001b[1;36m1\u001b[0m \u001b[1;33m+\u001b[0m \u001b[1;34m'sab'\u001b[0m\u001b[1;33m\u001b[0m\u001b[1;33m\u001b[0m\u001b[0m\n\u001b[0m",
      "\u001b[1;31mTypeError\u001b[0m: unsupported operand type(s) for +: 'int' and 'str'"
     ]
    }
   ],
   "source": [
    "1 + 'sab'"
   ]
  },
  {
   "cell_type": "code",
   "execution_count": 7,
   "metadata": {},
   "outputs": [
    {
     "name": "stdout",
     "output_type": "stream",
     "text": [
      "the Datatype has to be same\n"
     ]
    }
   ],
   "source": [
    "# we will try more specific exceptions\n",
    "\n",
    "try:\n",
    "    a=1\n",
    "    b = 's'\n",
    "    c = a +b\n",
    "    \n",
    "except TypeError : # this block will catch any TypeError\n",
    "    print('the Datatype has to be same')\n",
    "except NameError: # this block will catch any NameError\n",
    "    print('The variable is not defined')\n",
    "except Exception as ex: # this catches any exception\n",
    "    print(ex)"
   ]
  },
  {
   "cell_type": "code",
   "execution_count": 8,
   "metadata": {},
   "outputs": [],
   "source": [
    "# next will try zero division error\n",
    "#1. without specific block just general exception\n",
    "#2. with specific block"
   ]
  },
  {
   "cell_type": "code",
   "execution_count": 9,
   "metadata": {},
   "outputs": [
    {
     "ename": "ZeroDivisionError",
     "evalue": "division by zero",
     "output_type": "error",
     "traceback": [
      "\u001b[1;31m---------------------------------------------------------------------------\u001b[0m",
      "\u001b[1;31mZeroDivisionError\u001b[0m                         Traceback (most recent call last)",
      "\u001b[1;32m<ipython-input-9-898e9759c56e>\u001b[0m in \u001b[0;36m<module>\u001b[1;34m\u001b[0m\n\u001b[1;32m----> 1\u001b[1;33m \u001b[1;36m12\u001b[0m\u001b[1;33m/\u001b[0m\u001b[1;36m0\u001b[0m\u001b[1;33m\u001b[0m\u001b[1;33m\u001b[0m\u001b[0m\n\u001b[0m",
      "\u001b[1;31mZeroDivisionError\u001b[0m: division by zero"
     ]
    }
   ],
   "source": [
    "12/0"
   ]
  },
  {
   "cell_type": "code",
   "execution_count": 10,
   "metadata": {},
   "outputs": [
    {
     "name": "stdout",
     "output_type": "stream",
     "text": [
      "Enter first number12\n",
      "Enter second number0\n",
      "division by zero\n"
     ]
    }
   ],
   "source": [
    "#1. without specific block just general exception\n",
    "try:\n",
    "    a=int(input('Enter first number'))\n",
    "    b = int(input('Enter second number'))\n",
    "    c = a/b\n",
    "    print(c)\n",
    "except TypeError : # this block will catch any TypeError\n",
    "    print('the Datatype has to be same')\n",
    "except NameError: # this block will catch any NameError\n",
    "    print('The variable is not defined')\n",
    "except Exception as ex: # this catches any exception\n",
    "    print(ex)"
   ]
  },
  {
   "cell_type": "code",
   "execution_count": 11,
   "metadata": {},
   "outputs": [
    {
     "name": "stdout",
     "output_type": "stream",
     "text": [
      "Enter first number : 12\n",
      "Enter second number : 0\n",
      "Second number should be greater than zero\n"
     ]
    }
   ],
   "source": [
    "#2. with specific block\n",
    "try:\n",
    "    a=int(input('Enter first number : '))\n",
    "    b = int(input('Enter second number : '))\n",
    "    c = a/b\n",
    "    print(c)\n",
    "    \n",
    "except ZeroDivisionError : # this block will catch any TypeError\n",
    "    print('Second number should be greater than zero')\n",
    "except TypeError : # this block will catch any TypeError\n",
    "    print('the Datatype has to be same')\n",
    "except NameError: # this block will catch any NameError\n",
    "    print('The variable is not defined')\n",
    "except Exception as ex: # this catches any exception\n",
    "    print(ex)"
   ]
  },
  {
   "cell_type": "markdown",
   "metadata": {},
   "source": [
    "### try-->except-->else block\n",
    "\n",
    "else block here will execute only when the try block executes without any errors"
   ]
  },
  {
   "cell_type": "code",
   "execution_count": 16,
   "metadata": {},
   "outputs": [
    {
     "name": "stdout",
     "output_type": "stream",
     "text": [
      "Enter first number  : 12\n",
      "Enter second number : 0\n",
      "Second number should be greater than zero\n"
     ]
    }
   ],
   "source": [
    "try:\n",
    "    a = int(input('Enter first number  : '))\n",
    "    b = int(input('Enter second number : '))\n",
    "    c = a/b\n",
    "    \n",
    "    \n",
    "except ZeroDivisionError : # this block will catch any TypeError\n",
    "    print('Second number should be greater than zero')\n",
    "except TypeError : # this block will catch any TypeError\n",
    "    print('the Datatype has to be same')\n",
    "except NameError: # this block will catch any NameError\n",
    "    print('The variable is not defined')\n",
    "except Exception as ex: # this catches any exception\n",
    "    print(ex)\n",
    "    \n",
    "else:\n",
    "    print(c)"
   ]
  },
  {
   "cell_type": "markdown",
   "metadata": {},
   "source": [
    "### try-->except-->else-->finally block"
   ]
  },
  {
   "cell_type": "code",
   "execution_count": 17,
   "metadata": {},
   "outputs": [
    {
     "name": "stdout",
     "output_type": "stream",
     "text": [
      "Enter first number : 15\n",
      "Enter second number : 0\n",
      "Second number should be greater than zero\n",
      "No matter which block runs i will get printed\n"
     ]
    }
   ],
   "source": [
    "# try any of the erros\n",
    "try:\n",
    "    a=int(input('Enter first number : '))\n",
    "    b = int(input('Enter second number : '))\n",
    "    c = a/b\n",
    "    \n",
    "    \n",
    "except ZeroDivisionError : # this block will catch any TypeError\n",
    "    print('Second number should be greater than zero')\n",
    "except TypeError : # this block will catch any TypeError\n",
    "    print('the Datatype has to be same')\n",
    "except NameError: # this block will catch any NameError\n",
    "    print('The variable is not defined')\n",
    "except Exception as ex: # this catches any exception\n",
    "    print(ex)\n",
    "    \n",
    "else:\n",
    "    print(c)\n",
    "    \n",
    "finally:\n",
    "    print(\"No matter which block runs i will get printed\")"
   ]
  },
  {
   "cell_type": "code",
   "execution_count": 17,
   "metadata": {},
   "outputs": [],
   "source": [
    "#use case: finally is used to close connections of database no matter what happens"
   ]
  }
 ],
 "metadata": {
  "kernelspec": {
   "display_name": "Python 3",
   "language": "python",
   "name": "python3"
  },
  "language_info": {
   "codemirror_mode": {
    "name": "ipython",
    "version": 3
   },
   "file_extension": ".py",
   "mimetype": "text/x-python",
   "name": "python",
   "nbconvert_exporter": "python",
   "pygments_lexer": "ipython3",
   "version": "3.8.5"
  }
 },
 "nbformat": 4,
 "nbformat_minor": 4
}
