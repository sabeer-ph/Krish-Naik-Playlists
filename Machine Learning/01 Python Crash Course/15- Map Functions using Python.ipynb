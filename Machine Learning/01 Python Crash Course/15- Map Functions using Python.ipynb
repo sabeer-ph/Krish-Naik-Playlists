{
 "cells": [
  {
   "cell_type": "code",
   "execution_count": 1,
   "metadata": {},
   "outputs": [
    {
     "name": "stdout",
     "output_type": "stream",
     "text": [
      "the number 24 is even\n"
     ]
    }
   ],
   "source": [
    "def even_or_odd(num):\n",
    "    if num%2==0:\n",
    "        print('the number {} is even'.format(num))\n",
    "    else:\n",
    "        print('the number {} is odd'.format(num))\n",
    "        \n",
    "even_or_odd(24)"
   ]
  },
  {
   "cell_type": "code",
   "execution_count": 2,
   "metadata": {},
   "outputs": [
    {
     "name": "stdout",
     "output_type": "stream",
     "text": [
      "the number 2 is even\n",
      "the number 3 is odd\n",
      "the number 4 is even\n",
      "the number 5 is odd\n",
      "the number 6 is even\n",
      "the number 7 is odd\n",
      "the number 8 is even\n",
      "the number 8 is even\n",
      "the number 9 is odd\n",
      "the number 10 is even\n"
     ]
    }
   ],
   "source": [
    "def even_or_odd_lst(lst):\n",
    "    for num in lst:\n",
    "        if num%2==0:\n",
    "            print('the number {} is even'.format(num))\n",
    "        else:\n",
    "            print('the number {} is odd'.format(num))\n",
    "            \n",
    "            \n",
    "lst = [2,3,4,5,6,7,8,8,9,10]\n",
    "even_or_odd_lst(lst)"
   ]
  },
  {
   "cell_type": "markdown",
   "metadata": {},
   "source": [
    "### the map function"
   ]
  },
  {
   "cell_type": "code",
   "execution_count": 4,
   "metadata": {},
   "outputs": [
    {
     "name": "stdout",
     "output_type": "stream",
     "text": [
      "the number 2 is even\n",
      "the number 3 is odd\n",
      "the number 4 is even\n",
      "the number 5 is odd\n",
      "the number 6 is even\n",
      "the number 7 is odd\n",
      "the number 8 is even\n",
      "the number 8 is even\n",
      "the number 9 is odd\n",
      "the number 10 is even\n"
     ]
    },
    {
     "data": {
      "text/plain": [
       "[None, None, None, None, None, None, None, None, None, None]"
      ]
     },
     "execution_count": 4,
     "metadata": {},
     "output_type": "execute_result"
    }
   ],
   "source": [
    "# instead of using the 2nd function above where we loop through each elemeny\n",
    "# we can use map function with the 1st function where it will map each element\n",
    "\n",
    "map(even_or_odd,lst) # inorder to see the value we need to use the return type\n",
    "\n",
    "list(map(even_or_odd,lst))"
   ]
  }
 ],
 "metadata": {
  "kernelspec": {
   "display_name": "Python 3",
   "language": "python",
   "name": "python3"
  },
  "language_info": {
   "codemirror_mode": {
    "name": "ipython",
    "version": 3
   },
   "file_extension": ".py",
   "mimetype": "text/x-python",
   "name": "python",
   "nbconvert_exporter": "python",
   "pygments_lexer": "ipython3",
   "version": "3.8.5"
  }
 },
 "nbformat": 4,
 "nbformat_minor": 4
}
