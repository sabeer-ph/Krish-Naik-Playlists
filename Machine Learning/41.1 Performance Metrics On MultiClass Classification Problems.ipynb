{
 "cells": [
  {
   "cell_type": "markdown",
   "metadata": {},
   "source": [
    "### Performance Metrics On MultiClass Classification Problems"
   ]
  },
  {
   "cell_type": "code",
   "execution_count": 1,
   "metadata": {},
   "outputs": [],
   "source": [
    "from sklearn import metrics"
   ]
  },
  {
   "cell_type": "code",
   "execution_count": 2,
   "metadata": {},
   "outputs": [],
   "source": [
    "C = 'Cat'\n",
    "D = 'Dog'\n",
    "F = 'Fox'"
   ]
  },
  {
   "cell_type": "markdown",
   "metadata": {},
   "source": [
    "Precision : No of cats predicated correctly out of the total predictions\n",
    "\n",
    "Recall : No of the corrected predicated cats out of the actual photos cats."
   ]
  },
  {
   "cell_type": "code",
   "execution_count": 3,
   "metadata": {},
   "outputs": [],
   "source": [
    "# True values \n",
    "\n",
    "y_true = [C]*6 + [F] * 10 + [D]*9\n",
    "\n",
    "y_pred = [C,C,C,C,D,F,C,C,C,C,C,C,D,D,F,F,C,C,C,D,D,D,D,D,D]"
   ]
  },
  {
   "cell_type": "code",
   "execution_count": 4,
   "metadata": {},
   "outputs": [
    {
     "name": "stdout",
     "output_type": "stream",
     "text": [
      "[[4 1 1]\n",
      " [3 6 0]\n",
      " [6 2 2]]\n"
     ]
    }
   ],
   "source": [
    "# PRINT THE CONFUSION MATRIX\n",
    "\n",
    "print(metrics.confusion_matrix(y_true,y_pred))"
   ]
  },
  {
   "cell_type": "markdown",
   "metadata": {},
   "source": [
    "[[ cat as cat, cat as dog, cat as fox]\n",
    "\n",
    " [ dog as cat, dog as dog, dog as fox]\n",
    " \n",
    " [ fox as cat, fox as dog, fox as fox]]\n",
    " \n",
    " accuracy is sum of the values diagonally (4+6+2) divide by all of the total 25."
   ]
  },
  {
   "cell_type": "code",
   "execution_count": 5,
   "metadata": {},
   "outputs": [
    {
     "name": "stdout",
     "output_type": "stream",
     "text": [
      "              precision    recall  f1-score   support\n",
      "\n",
      "         Cat      0.308     0.667     0.421         6\n",
      "         Dog      0.667     0.667     0.667         9\n",
      "         Fox      0.667     0.200     0.308        10\n",
      "\n",
      "    accuracy                          0.480        25\n",
      "   macro avg      0.547     0.511     0.465        25\n",
      "weighted avg      0.581     0.480     0.464        25\n",
      "\n"
     ]
    }
   ],
   "source": [
    "#print the precision and recall among other metrics\n",
    "\n",
    "print(metrics.classification_report(y_true,y_pred,digits=3)) # digits = 3 gives 3 digit precision"
   ]
  },
  {
   "cell_type": "code",
   "execution_count": 6,
   "metadata": {},
   "outputs": [
    {
     "name": "stdout",
     "output_type": "stream",
     "text": [
      "0.308\n",
      "0.667\n",
      "0.421\n"
     ]
    }
   ],
   "source": [
    "Precion_for_cat = 4/(4+3+6)\n",
    "Precision = round(Precion_for_cat,3)\n",
    "print(round(Precion_for_cat,3)) # model said 13 were cats out of which 4 were actally cats\n",
    "\n",
    "recall_for_cat = 4/6 # we had 6 cats and model guess 4 correctly\n",
    "recall = round(recall_for_cat,3)\n",
    "print(round(recall_for_cat,3))\n",
    "\n",
    "f1score_for_cat = (2 * Precision * recall)/(Precision + recall )\n",
    "print(round(f1score_for_cat,3))"
   ]
  }
 ],
 "metadata": {
  "kernelspec": {
   "display_name": "Python 3",
   "language": "python",
   "name": "python3"
  },
  "language_info": {
   "codemirror_mode": {
    "name": "ipython",
    "version": 3
   },
   "file_extension": ".py",
   "mimetype": "text/x-python",
   "name": "python",
   "nbconvert_exporter": "python",
   "pygments_lexer": "ipython3",
   "version": "3.8.5"
  }
 },
 "nbformat": 4,
 "nbformat_minor": 4
}
