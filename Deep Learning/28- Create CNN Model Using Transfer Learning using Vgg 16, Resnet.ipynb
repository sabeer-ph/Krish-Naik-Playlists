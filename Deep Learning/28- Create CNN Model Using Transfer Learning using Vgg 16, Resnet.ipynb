{
 "cells": [
  {
   "cell_type": "markdown",
   "metadata": {},
   "source": [
    "**Transfer Learning :** cognition neural  network that are designed to give state-of-art  algorithm to classify different kind of images.\n",
    "\n",
    "Before we try to understand transfer learning we need to understand [ImageNet](https://en.wikipedia.org/wiki/ImageNet)\n",
    "\n",
    "**ImageNet :**  Is a cloud competition held every year called as imagenet classification problem statements  wherein people come up with new CNN using which we will be able to classify thousand different objects/images and the one with highest accuracy are  given prize money.\n",
    "\n",
    "past six to seven years we got  various various transfer learning concepts/algorithms come up with better accuracy with respect to image rate classification. The list of all the algorithms can be found in this link [Available Models](https://keras.io/api/applications/).\n",
    "\n",
    "we will try to create a basicgeneric template in Python such that we can implement all these algorithms by just importing the library of Keras.\n",
    "\n"
   ]
  },
  {
   "cell_type": "markdown",
   "metadata": {},
   "source": [
    "We will perform 2 exercises using VGG16 and ResNet50 both exercises with perfomed using spyder and copied to same folder with .py extension."
   ]
  },
  {
   "cell_type": "code",
   "execution_count": null,
   "metadata": {},
   "outputs": [],
   "source": []
  }
 ],
 "metadata": {
  "kernelspec": {
   "display_name": "Python 3",
   "language": "python",
   "name": "python3"
  },
  "language_info": {
   "codemirror_mode": {
    "name": "ipython",
    "version": 3
   },
   "file_extension": ".py",
   "mimetype": "text/x-python",
   "name": "python",
   "nbconvert_exporter": "python",
   "pygments_lexer": "ipython3",
   "version": "3.8.5"
  }
 },
 "nbformat": 4,
 "nbformat_minor": 4
}
