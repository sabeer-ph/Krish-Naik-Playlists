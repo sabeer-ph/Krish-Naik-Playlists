{
 "cells": [
  {
   "cell_type": "markdown",
   "metadata": {},
   "source": [
    "Here we will be discussing about convolution neural network.\n",
    "\n",
    "We previous discussed about artificial neural network and learnt we could solve various  regression and classification problem  statements.\n",
    "\n",
    "whenever the **inputs** are in the form of **images  and video frames** we prefer using **convolution  neural network (CNN)**. With CNN we can do **object  detection, Face classification, object  classification, object recognition and  many more**.\n",
    "\n",
    "Before learning CNN we try to understand how the image recognition is happening in our human brain. In our brain there is region called **cerebral cortex**. Inside it we have something  called as **visual cortex** which is responsible for seeing the  images.\n",
    "\n",
    "\n",
    "suppose we see a cat that information  passes through sensory organs i.e  eyes. Once it passes it passes through various neurons and then it reaches visual cortex. In visual cortex we have multiple  layers like v1 v2 v3  v4 v5 and v6. These layers play a very important role i.e v1 layer is responsible for finding the edges of  that particular image, then it goes to the next layer v2 layer may be it'll  try to determine whether the object is  moving or not and apart from that is there any other object along with  that suppose there is a cat and a dog if  there are two objects is it able to  determine multiple objects.\n",
    "\n",
    "The above ones are just examples. The idea to undertand here is that each and every layer is doing or trying to find something. Similarly in CNN each and every layer has a task to do. in CNN we call layers as **filters**."
   ]
  },
  {
   "cell_type": "code",
   "execution_count": null,
   "metadata": {},
   "outputs": [],
   "source": []
  }
 ],
 "metadata": {
  "kernelspec": {
   "display_name": "Python 3",
   "language": "python",
   "name": "python3"
  },
  "language_info": {
   "codemirror_mode": {
    "name": "ipython",
    "version": 3
   },
   "file_extension": ".py",
   "mimetype": "text/x-python",
   "name": "python",
   "nbconvert_exporter": "python",
   "pygments_lexer": "ipython3",
   "version": "3.8.5"
  }
 },
 "nbformat": 4,
 "nbformat_minor": 4
}
