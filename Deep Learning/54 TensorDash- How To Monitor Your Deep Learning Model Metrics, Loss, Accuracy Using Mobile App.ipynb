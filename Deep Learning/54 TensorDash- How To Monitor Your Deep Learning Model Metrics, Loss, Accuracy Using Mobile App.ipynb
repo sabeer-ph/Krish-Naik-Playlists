{
 "cells": [
  {
   "cell_type": "markdown",
   "metadata": {},
   "source": [
    "### ANN With Cutomer Churn Prediction- Classification"
   ]
  },
  {
   "cell_type": "code",
   "execution_count": 4,
   "metadata": {},
   "outputs": [],
   "source": [
    "#!pip install pandas\n",
    "#!pip install matplotlib"
   ]
  },
  {
   "cell_type": "code",
   "execution_count": 3,
   "metadata": {
    "id": "LJ1czPWJml_f"
   },
   "outputs": [],
   "source": [
    "# Part 1 - Data Preprocessing\n",
    "\n",
    "# Importing the libraries\n",
    "import numpy as np\n",
    "import matplotlib.pyplot as plt\n",
    "import pandas as pd"
   ]
  },
  {
   "cell_type": "code",
   "execution_count": 7,
   "metadata": {
    "id": "-H0j08pym5HX"
   },
   "outputs": [],
   "source": [
    "# Importing the dataset\n",
    "dataset = pd.read_csv('./Data/54 Churn_Modelling.csv')\n",
    "X = dataset.iloc[:, 3:13]\n",
    "y = dataset.iloc[:, 13]"
   ]
  },
  {
   "cell_type": "code",
   "execution_count": 8,
   "metadata": {},
   "outputs": [
    {
     "data": {
      "text/html": [
       "<div>\n",
       "<style scoped>\n",
       "    .dataframe tbody tr th:only-of-type {\n",
       "        vertical-align: middle;\n",
       "    }\n",
       "\n",
       "    .dataframe tbody tr th {\n",
       "        vertical-align: top;\n",
       "    }\n",
       "\n",
       "    .dataframe thead th {\n",
       "        text-align: right;\n",
       "    }\n",
       "</style>\n",
       "<table border=\"1\" class=\"dataframe\">\n",
       "  <thead>\n",
       "    <tr style=\"text-align: right;\">\n",
       "      <th></th>\n",
       "      <th>RowNumber</th>\n",
       "      <th>CustomerId</th>\n",
       "      <th>Surname</th>\n",
       "      <th>CreditScore</th>\n",
       "      <th>Geography</th>\n",
       "      <th>Gender</th>\n",
       "      <th>Age</th>\n",
       "      <th>Tenure</th>\n",
       "      <th>Balance</th>\n",
       "      <th>NumOfProducts</th>\n",
       "      <th>HasCrCard</th>\n",
       "      <th>IsActiveMember</th>\n",
       "      <th>EstimatedSalary</th>\n",
       "      <th>Exited</th>\n",
       "    </tr>\n",
       "  </thead>\n",
       "  <tbody>\n",
       "    <tr>\n",
       "      <th>0</th>\n",
       "      <td>1</td>\n",
       "      <td>15634602</td>\n",
       "      <td>Hargrave</td>\n",
       "      <td>619</td>\n",
       "      <td>France</td>\n",
       "      <td>Female</td>\n",
       "      <td>42</td>\n",
       "      <td>2</td>\n",
       "      <td>0.00</td>\n",
       "      <td>1</td>\n",
       "      <td>1</td>\n",
       "      <td>1</td>\n",
       "      <td>101348.88</td>\n",
       "      <td>1</td>\n",
       "    </tr>\n",
       "    <tr>\n",
       "      <th>1</th>\n",
       "      <td>2</td>\n",
       "      <td>15647311</td>\n",
       "      <td>Hill</td>\n",
       "      <td>608</td>\n",
       "      <td>Spain</td>\n",
       "      <td>Female</td>\n",
       "      <td>41</td>\n",
       "      <td>1</td>\n",
       "      <td>83807.86</td>\n",
       "      <td>1</td>\n",
       "      <td>0</td>\n",
       "      <td>1</td>\n",
       "      <td>112542.58</td>\n",
       "      <td>0</td>\n",
       "    </tr>\n",
       "    <tr>\n",
       "      <th>2</th>\n",
       "      <td>3</td>\n",
       "      <td>15619304</td>\n",
       "      <td>Onio</td>\n",
       "      <td>502</td>\n",
       "      <td>France</td>\n",
       "      <td>Female</td>\n",
       "      <td>42</td>\n",
       "      <td>8</td>\n",
       "      <td>159660.80</td>\n",
       "      <td>3</td>\n",
       "      <td>1</td>\n",
       "      <td>0</td>\n",
       "      <td>113931.57</td>\n",
       "      <td>1</td>\n",
       "    </tr>\n",
       "    <tr>\n",
       "      <th>3</th>\n",
       "      <td>4</td>\n",
       "      <td>15701354</td>\n",
       "      <td>Boni</td>\n",
       "      <td>699</td>\n",
       "      <td>France</td>\n",
       "      <td>Female</td>\n",
       "      <td>39</td>\n",
       "      <td>1</td>\n",
       "      <td>0.00</td>\n",
       "      <td>2</td>\n",
       "      <td>0</td>\n",
       "      <td>0</td>\n",
       "      <td>93826.63</td>\n",
       "      <td>0</td>\n",
       "    </tr>\n",
       "    <tr>\n",
       "      <th>4</th>\n",
       "      <td>5</td>\n",
       "      <td>15737888</td>\n",
       "      <td>Mitchell</td>\n",
       "      <td>850</td>\n",
       "      <td>Spain</td>\n",
       "      <td>Female</td>\n",
       "      <td>43</td>\n",
       "      <td>2</td>\n",
       "      <td>125510.82</td>\n",
       "      <td>1</td>\n",
       "      <td>1</td>\n",
       "      <td>1</td>\n",
       "      <td>79084.10</td>\n",
       "      <td>0</td>\n",
       "    </tr>\n",
       "  </tbody>\n",
       "</table>\n",
       "</div>"
      ],
      "text/plain": [
       "   RowNumber  CustomerId   Surname  CreditScore Geography  Gender  Age  \\\n",
       "0          1    15634602  Hargrave          619    France  Female   42   \n",
       "1          2    15647311      Hill          608     Spain  Female   41   \n",
       "2          3    15619304      Onio          502    France  Female   42   \n",
       "3          4    15701354      Boni          699    France  Female   39   \n",
       "4          5    15737888  Mitchell          850     Spain  Female   43   \n",
       "\n",
       "   Tenure    Balance  NumOfProducts  HasCrCard  IsActiveMember  \\\n",
       "0       2       0.00              1          1               1   \n",
       "1       1   83807.86              1          0               1   \n",
       "2       8  159660.80              3          1               0   \n",
       "3       1       0.00              2          0               0   \n",
       "4       2  125510.82              1          1               1   \n",
       "\n",
       "   EstimatedSalary  Exited  \n",
       "0        101348.88       1  \n",
       "1        112542.58       0  \n",
       "2        113931.57       1  \n",
       "3         93826.63       0  \n",
       "4         79084.10       0  "
      ]
     },
     "execution_count": 8,
     "metadata": {},
     "output_type": "execute_result"
    }
   ],
   "source": [
    "dataset.head()"
   ]
  },
  {
   "cell_type": "code",
   "execution_count": 9,
   "metadata": {},
   "outputs": [
    {
     "data": {
      "text/plain": [
       "RowNumber          0\n",
       "CustomerId         0\n",
       "Surname            0\n",
       "CreditScore        0\n",
       "Geography          0\n",
       "Gender             0\n",
       "Age                0\n",
       "Tenure             0\n",
       "Balance            0\n",
       "NumOfProducts      0\n",
       "HasCrCard          0\n",
       "IsActiveMember     0\n",
       "EstimatedSalary    0\n",
       "Exited             0\n",
       "dtype: int64"
      ]
     },
     "execution_count": 9,
     "metadata": {},
     "output_type": "execute_result"
    }
   ],
   "source": [
    "dataset.isnull().sum()"
   ]
  },
  {
   "cell_type": "code",
   "execution_count": 10,
   "metadata": {},
   "outputs": [
    {
     "data": {
      "text/html": [
       "<div>\n",
       "<style scoped>\n",
       "    .dataframe tbody tr th:only-of-type {\n",
       "        vertical-align: middle;\n",
       "    }\n",
       "\n",
       "    .dataframe tbody tr th {\n",
       "        vertical-align: top;\n",
       "    }\n",
       "\n",
       "    .dataframe thead th {\n",
       "        text-align: right;\n",
       "    }\n",
       "</style>\n",
       "<table border=\"1\" class=\"dataframe\">\n",
       "  <thead>\n",
       "    <tr style=\"text-align: right;\">\n",
       "      <th></th>\n",
       "      <th>CreditScore</th>\n",
       "      <th>Geography</th>\n",
       "      <th>Gender</th>\n",
       "      <th>Age</th>\n",
       "      <th>Tenure</th>\n",
       "      <th>Balance</th>\n",
       "      <th>NumOfProducts</th>\n",
       "      <th>HasCrCard</th>\n",
       "      <th>IsActiveMember</th>\n",
       "      <th>EstimatedSalary</th>\n",
       "    </tr>\n",
       "  </thead>\n",
       "  <tbody>\n",
       "    <tr>\n",
       "      <th>0</th>\n",
       "      <td>619</td>\n",
       "      <td>France</td>\n",
       "      <td>Female</td>\n",
       "      <td>42</td>\n",
       "      <td>2</td>\n",
       "      <td>0.00</td>\n",
       "      <td>1</td>\n",
       "      <td>1</td>\n",
       "      <td>1</td>\n",
       "      <td>101348.88</td>\n",
       "    </tr>\n",
       "    <tr>\n",
       "      <th>1</th>\n",
       "      <td>608</td>\n",
       "      <td>Spain</td>\n",
       "      <td>Female</td>\n",
       "      <td>41</td>\n",
       "      <td>1</td>\n",
       "      <td>83807.86</td>\n",
       "      <td>1</td>\n",
       "      <td>0</td>\n",
       "      <td>1</td>\n",
       "      <td>112542.58</td>\n",
       "    </tr>\n",
       "    <tr>\n",
       "      <th>2</th>\n",
       "      <td>502</td>\n",
       "      <td>France</td>\n",
       "      <td>Female</td>\n",
       "      <td>42</td>\n",
       "      <td>8</td>\n",
       "      <td>159660.80</td>\n",
       "      <td>3</td>\n",
       "      <td>1</td>\n",
       "      <td>0</td>\n",
       "      <td>113931.57</td>\n",
       "    </tr>\n",
       "    <tr>\n",
       "      <th>3</th>\n",
       "      <td>699</td>\n",
       "      <td>France</td>\n",
       "      <td>Female</td>\n",
       "      <td>39</td>\n",
       "      <td>1</td>\n",
       "      <td>0.00</td>\n",
       "      <td>2</td>\n",
       "      <td>0</td>\n",
       "      <td>0</td>\n",
       "      <td>93826.63</td>\n",
       "    </tr>\n",
       "    <tr>\n",
       "      <th>4</th>\n",
       "      <td>850</td>\n",
       "      <td>Spain</td>\n",
       "      <td>Female</td>\n",
       "      <td>43</td>\n",
       "      <td>2</td>\n",
       "      <td>125510.82</td>\n",
       "      <td>1</td>\n",
       "      <td>1</td>\n",
       "      <td>1</td>\n",
       "      <td>79084.10</td>\n",
       "    </tr>\n",
       "  </tbody>\n",
       "</table>\n",
       "</div>"
      ],
      "text/plain": [
       "   CreditScore Geography  Gender  Age  Tenure    Balance  NumOfProducts  \\\n",
       "0          619    France  Female   42       2       0.00              1   \n",
       "1          608     Spain  Female   41       1   83807.86              1   \n",
       "2          502    France  Female   42       8  159660.80              3   \n",
       "3          699    France  Female   39       1       0.00              2   \n",
       "4          850     Spain  Female   43       2  125510.82              1   \n",
       "\n",
       "   HasCrCard  IsActiveMember  EstimatedSalary  \n",
       "0          1               1        101348.88  \n",
       "1          0               1        112542.58  \n",
       "2          1               0        113931.57  \n",
       "3          0               0         93826.63  \n",
       "4          1               1         79084.10  "
      ]
     },
     "execution_count": 10,
     "metadata": {},
     "output_type": "execute_result"
    }
   ],
   "source": [
    "X.head()"
   ]
  },
  {
   "cell_type": "code",
   "execution_count": 11,
   "metadata": {},
   "outputs": [
    {
     "data": {
      "text/plain": [
       "0    1\n",
       "1    0\n",
       "2    1\n",
       "3    0\n",
       "4    0\n",
       "Name: Exited, dtype: int64"
      ]
     },
     "execution_count": 11,
     "metadata": {},
     "output_type": "execute_result"
    }
   ],
   "source": [
    "y.head()"
   ]
  },
  {
   "cell_type": "code",
   "execution_count": 12,
   "metadata": {
    "id": "N9QNTLkJm8tm"
   },
   "outputs": [],
   "source": [
    "#Create dummy variables\n",
    "geography=pd.get_dummies(X[\"Geography\"],drop_first=True)\n",
    "gender=pd.get_dummies(X['Gender'],drop_first=True)\n"
   ]
  },
  {
   "cell_type": "code",
   "execution_count": 13,
   "metadata": {},
   "outputs": [
    {
     "data": {
      "text/html": [
       "<div>\n",
       "<style scoped>\n",
       "    .dataframe tbody tr th:only-of-type {\n",
       "        vertical-align: middle;\n",
       "    }\n",
       "\n",
       "    .dataframe tbody tr th {\n",
       "        vertical-align: top;\n",
       "    }\n",
       "\n",
       "    .dataframe thead th {\n",
       "        text-align: right;\n",
       "    }\n",
       "</style>\n",
       "<table border=\"1\" class=\"dataframe\">\n",
       "  <thead>\n",
       "    <tr style=\"text-align: right;\">\n",
       "      <th></th>\n",
       "      <th>Germany</th>\n",
       "      <th>Spain</th>\n",
       "    </tr>\n",
       "  </thead>\n",
       "  <tbody>\n",
       "    <tr>\n",
       "      <th>0</th>\n",
       "      <td>0</td>\n",
       "      <td>0</td>\n",
       "    </tr>\n",
       "    <tr>\n",
       "      <th>1</th>\n",
       "      <td>0</td>\n",
       "      <td>1</td>\n",
       "    </tr>\n",
       "    <tr>\n",
       "      <th>2</th>\n",
       "      <td>0</td>\n",
       "      <td>0</td>\n",
       "    </tr>\n",
       "    <tr>\n",
       "      <th>3</th>\n",
       "      <td>0</td>\n",
       "      <td>0</td>\n",
       "    </tr>\n",
       "    <tr>\n",
       "      <th>4</th>\n",
       "      <td>0</td>\n",
       "      <td>1</td>\n",
       "    </tr>\n",
       "    <tr>\n",
       "      <th>...</th>\n",
       "      <td>...</td>\n",
       "      <td>...</td>\n",
       "    </tr>\n",
       "    <tr>\n",
       "      <th>9995</th>\n",
       "      <td>0</td>\n",
       "      <td>0</td>\n",
       "    </tr>\n",
       "    <tr>\n",
       "      <th>9996</th>\n",
       "      <td>0</td>\n",
       "      <td>0</td>\n",
       "    </tr>\n",
       "    <tr>\n",
       "      <th>9997</th>\n",
       "      <td>0</td>\n",
       "      <td>0</td>\n",
       "    </tr>\n",
       "    <tr>\n",
       "      <th>9998</th>\n",
       "      <td>1</td>\n",
       "      <td>0</td>\n",
       "    </tr>\n",
       "    <tr>\n",
       "      <th>9999</th>\n",
       "      <td>0</td>\n",
       "      <td>0</td>\n",
       "    </tr>\n",
       "  </tbody>\n",
       "</table>\n",
       "<p>10000 rows × 2 columns</p>\n",
       "</div>"
      ],
      "text/plain": [
       "      Germany  Spain\n",
       "0           0      0\n",
       "1           0      1\n",
       "2           0      0\n",
       "3           0      0\n",
       "4           0      1\n",
       "...       ...    ...\n",
       "9995        0      0\n",
       "9996        0      0\n",
       "9997        0      0\n",
       "9998        1      0\n",
       "9999        0      0\n",
       "\n",
       "[10000 rows x 2 columns]"
      ]
     },
     "execution_count": 13,
     "metadata": {},
     "output_type": "execute_result"
    }
   ],
   "source": [
    "geography"
   ]
  },
  {
   "cell_type": "code",
   "execution_count": 14,
   "metadata": {
    "id": "rbNc5sLHnAdP"
   },
   "outputs": [],
   "source": [
    "## Concatenate the Data Frames\n",
    "\n",
    "X=pd.concat([X,geography,gender],axis=1)\n",
    "\n",
    "## Drop Unnecessary columns\n",
    "X=X.drop(['Geography','Gender'],axis=1)"
   ]
  },
  {
   "cell_type": "code",
   "execution_count": 15,
   "metadata": {},
   "outputs": [
    {
     "data": {
      "text/plain": [
       "(10000, 11)"
      ]
     },
     "execution_count": 15,
     "metadata": {},
     "output_type": "execute_result"
    }
   ],
   "source": [
    "X.shape"
   ]
  },
  {
   "cell_type": "code",
   "execution_count": 16,
   "metadata": {},
   "outputs": [
    {
     "data": {
      "text/html": [
       "<div>\n",
       "<style scoped>\n",
       "    .dataframe tbody tr th:only-of-type {\n",
       "        vertical-align: middle;\n",
       "    }\n",
       "\n",
       "    .dataframe tbody tr th {\n",
       "        vertical-align: top;\n",
       "    }\n",
       "\n",
       "    .dataframe thead th {\n",
       "        text-align: right;\n",
       "    }\n",
       "</style>\n",
       "<table border=\"1\" class=\"dataframe\">\n",
       "  <thead>\n",
       "    <tr style=\"text-align: right;\">\n",
       "      <th></th>\n",
       "      <th>CreditScore</th>\n",
       "      <th>Age</th>\n",
       "      <th>Tenure</th>\n",
       "      <th>Balance</th>\n",
       "      <th>NumOfProducts</th>\n",
       "      <th>HasCrCard</th>\n",
       "      <th>IsActiveMember</th>\n",
       "      <th>EstimatedSalary</th>\n",
       "      <th>Germany</th>\n",
       "      <th>Spain</th>\n",
       "      <th>Male</th>\n",
       "    </tr>\n",
       "  </thead>\n",
       "  <tbody>\n",
       "    <tr>\n",
       "      <th>0</th>\n",
       "      <td>619</td>\n",
       "      <td>42</td>\n",
       "      <td>2</td>\n",
       "      <td>0.00</td>\n",
       "      <td>1</td>\n",
       "      <td>1</td>\n",
       "      <td>1</td>\n",
       "      <td>101348.88</td>\n",
       "      <td>0</td>\n",
       "      <td>0</td>\n",
       "      <td>0</td>\n",
       "    </tr>\n",
       "    <tr>\n",
       "      <th>1</th>\n",
       "      <td>608</td>\n",
       "      <td>41</td>\n",
       "      <td>1</td>\n",
       "      <td>83807.86</td>\n",
       "      <td>1</td>\n",
       "      <td>0</td>\n",
       "      <td>1</td>\n",
       "      <td>112542.58</td>\n",
       "      <td>0</td>\n",
       "      <td>1</td>\n",
       "      <td>0</td>\n",
       "    </tr>\n",
       "    <tr>\n",
       "      <th>2</th>\n",
       "      <td>502</td>\n",
       "      <td>42</td>\n",
       "      <td>8</td>\n",
       "      <td>159660.80</td>\n",
       "      <td>3</td>\n",
       "      <td>1</td>\n",
       "      <td>0</td>\n",
       "      <td>113931.57</td>\n",
       "      <td>0</td>\n",
       "      <td>0</td>\n",
       "      <td>0</td>\n",
       "    </tr>\n",
       "    <tr>\n",
       "      <th>3</th>\n",
       "      <td>699</td>\n",
       "      <td>39</td>\n",
       "      <td>1</td>\n",
       "      <td>0.00</td>\n",
       "      <td>2</td>\n",
       "      <td>0</td>\n",
       "      <td>0</td>\n",
       "      <td>93826.63</td>\n",
       "      <td>0</td>\n",
       "      <td>0</td>\n",
       "      <td>0</td>\n",
       "    </tr>\n",
       "    <tr>\n",
       "      <th>4</th>\n",
       "      <td>850</td>\n",
       "      <td>43</td>\n",
       "      <td>2</td>\n",
       "      <td>125510.82</td>\n",
       "      <td>1</td>\n",
       "      <td>1</td>\n",
       "      <td>1</td>\n",
       "      <td>79084.10</td>\n",
       "      <td>0</td>\n",
       "      <td>1</td>\n",
       "      <td>0</td>\n",
       "    </tr>\n",
       "  </tbody>\n",
       "</table>\n",
       "</div>"
      ],
      "text/plain": [
       "   CreditScore  Age  Tenure    Balance  NumOfProducts  HasCrCard  \\\n",
       "0          619   42       2       0.00              1          1   \n",
       "1          608   41       1   83807.86              1          0   \n",
       "2          502   42       8  159660.80              3          1   \n",
       "3          699   39       1       0.00              2          0   \n",
       "4          850   43       2  125510.82              1          1   \n",
       "\n",
       "   IsActiveMember  EstimatedSalary  Germany  Spain  Male  \n",
       "0               1        101348.88        0      0     0  \n",
       "1               1        112542.58        0      1     0  \n",
       "2               0        113931.57        0      0     0  \n",
       "3               0         93826.63        0      0     0  \n",
       "4               1         79084.10        0      1     0  "
      ]
     },
     "execution_count": 16,
     "metadata": {},
     "output_type": "execute_result"
    }
   ],
   "source": [
    "X.head()"
   ]
  },
  {
   "cell_type": "code",
   "execution_count": 17,
   "metadata": {
    "id": "YkYOlHPAnDz_"
   },
   "outputs": [],
   "source": [
    "# Splitting the dataset into the Training set and Test set\n",
    "from sklearn.model_selection import train_test_split\n",
    "X_train, X_test, y_train, y_test = train_test_split(X, y, test_size = 0.2, random_state = 0)"
   ]
  },
  {
   "cell_type": "code",
   "execution_count": 18,
   "metadata": {
    "id": "cP2vl1p9nGyj"
   },
   "outputs": [],
   "source": [
    "# Feature Scaling\n",
    "from sklearn.preprocessing import StandardScaler\n",
    "sc = StandardScaler()\n",
    "X_train = sc.fit_transform(X_train)\n",
    "X_test = sc.transform(X_test)"
   ]
  },
  {
   "cell_type": "code",
   "execution_count": 19,
   "metadata": {},
   "outputs": [
    {
     "data": {
      "text/plain": [
       "array([[ 0.16958176, -0.46460796,  0.00666099, ..., -0.5698444 ,\n",
       "         1.74309049, -1.09168714],\n",
       "       [-2.30455945,  0.30102557, -1.37744033, ...,  1.75486502,\n",
       "        -0.57369368,  0.91601335],\n",
       "       [-1.19119591, -0.94312892, -1.031415  , ..., -0.5698444 ,\n",
       "        -0.57369368, -1.09168714],\n",
       "       ...,\n",
       "       [ 0.9015152 , -0.36890377,  0.00666099, ..., -0.5698444 ,\n",
       "        -0.57369368,  0.91601335],\n",
       "       [-0.62420521, -0.08179119,  1.39076231, ..., -0.5698444 ,\n",
       "         1.74309049, -1.09168714],\n",
       "       [-0.28401079,  0.87525072, -1.37744033, ...,  1.75486502,\n",
       "        -0.57369368, -1.09168714]])"
      ]
     },
     "execution_count": 19,
     "metadata": {},
     "output_type": "execute_result"
    }
   ],
   "source": [
    "X_train"
   ]
  },
  {
   "cell_type": "code",
   "execution_count": 20,
   "metadata": {},
   "outputs": [
    {
     "name": "stdout",
     "output_type": "stream",
     "text": [
      "2.4.0\n"
     ]
    }
   ],
   "source": [
    "import tensorflow\n",
    "print(tensorflow.__version__)"
   ]
  },
  {
   "cell_type": "code",
   "execution_count": 21,
   "metadata": {
    "id": "9cazFt9anJYm"
   },
   "outputs": [],
   "source": [
    "# Part 2 - Now let's make the ANN!\n",
    "\n",
    "# Importing the Keras libraries and packages\n",
    "import tensorflow.keras\n",
    "from tensorflow.keras.models import Sequential\n",
    "from tensorflow.keras.layers import Dense\n",
    "from tensorflow.keras.layers import Dropout"
   ]
  },
  {
   "cell_type": "code",
   "execution_count": 23,
   "metadata": {
    "id": "uuQ4aGhjnVfc"
   },
   "outputs": [],
   "source": [
    "# Initialising the ANN\n",
    "classifier = Sequential()\n",
    "\n",
    "# Adding the input layer and the first hidden layer\n",
    "classifier.add(Dense(units = 10,kernel_initializer='he_uniform',activation='relu',input_dim = 11))\n",
    "\n",
    "# Adding the second hidden layer\n",
    "classifier.add(Dense(units = 10, kernel_initializer = 'he_uniform',activation='relu'))\n",
    "# Adding the output layer\n",
    "classifier.add(Dense(units = 1, kernel_initializer = 'glorot_uniform', activation = 'sigmoid'))\n",
    "\n",
    "# Compiling the ANN\n",
    "classifier.compile(optimizer = 'adam', loss = 'binary_crossentropy', metrics = ['accuracy'])"
   ]
  },
  {
   "cell_type": "code",
   "execution_count": 24,
   "metadata": {},
   "outputs": [
    {
     "name": "stdout",
     "output_type": "stream",
     "text": [
      "Model: \"sequential_1\"\n",
      "_________________________________________________________________\n",
      "Layer (type)                 Output Shape              Param #   \n",
      "=================================================================\n",
      "dense_3 (Dense)              (None, 10)                120       \n",
      "_________________________________________________________________\n",
      "dense_4 (Dense)              (None, 10)                110       \n",
      "_________________________________________________________________\n",
      "dense_5 (Dense)              (None, 1)                 11        \n",
      "=================================================================\n",
      "Total params: 241\n",
      "Trainable params: 241\n",
      "Non-trainable params: 0\n",
      "_________________________________________________________________\n"
     ]
    }
   ],
   "source": [
    "classifier.summary()"
   ]
  },
  {
   "cell_type": "code",
   "execution_count": 25,
   "metadata": {},
   "outputs": [
    {
     "data": {
      "text/plain": [
       "(8000, 11)"
      ]
     },
     "execution_count": 25,
     "metadata": {},
     "output_type": "execute_result"
    }
   ],
   "source": [
    "X_train.shape"
   ]
  },
  {
   "cell_type": "code",
   "execution_count": 26,
   "metadata": {},
   "outputs": [
    {
     "name": "stdout",
     "output_type": "stream",
     "text": [
      "Enter Tensordash Password :········\n"
     ]
    }
   ],
   "source": [
    "from tensordash.tensordash import Tensordash\n",
    "histories = Tensordash(\n",
    "    ModelName = 'ANNexample',\n",
    "    email = 'shabz.sjec@gmail.com')\n",
    "#password ax*****m"
   ]
  },
  {
   "cell_type": "code",
   "execution_count": 27,
   "metadata": {
    "scrolled": false
   },
   "outputs": [
    {
     "name": "stdout",
     "output_type": "stream",
     "text": [
      "Epoch 1/25\n",
      "80/80 [==============================] - 2s 15ms/step - loss: 0.7383 - accuracy: 0.4727 - val_loss: 0.5700 - val_accuracy: 0.7410\n",
      "Epoch 2/25\n",
      "80/80 [==============================] - 0s 3ms/step - loss: 0.5577 - accuracy: 0.7589 - val_loss: 0.5068 - val_accuracy: 0.7905\n",
      "Epoch 3/25\n",
      "80/80 [==============================] - 0s 3ms/step - loss: 0.4986 - accuracy: 0.7986 - val_loss: 0.4733 - val_accuracy: 0.8025\n",
      "Epoch 4/25\n",
      "80/80 [==============================] - 0s 3ms/step - loss: 0.4776 - accuracy: 0.7977 - val_loss: 0.4531 - val_accuracy: 0.8100\n",
      "Epoch 5/25\n",
      "80/80 [==============================] - 0s 3ms/step - loss: 0.4578 - accuracy: 0.8048 - val_loss: 0.4413 - val_accuracy: 0.8130\n",
      "Epoch 6/25\n",
      "80/80 [==============================] - 0s 4ms/step - loss: 0.4442 - accuracy: 0.8098 - val_loss: 0.4330 - val_accuracy: 0.8165\n",
      "Epoch 7/25\n",
      "80/80 [==============================] - 0s 3ms/step - loss: 0.4402 - accuracy: 0.8101 - val_loss: 0.4263 - val_accuracy: 0.8155\n",
      "Epoch 8/25\n",
      "80/80 [==============================] - 0s 3ms/step - loss: 0.4192 - accuracy: 0.8213 - val_loss: 0.4209 - val_accuracy: 0.8210\n",
      "Epoch 9/25\n",
      "80/80 [==============================] - 0s 3ms/step - loss: 0.4176 - accuracy: 0.8200 - val_loss: 0.4149 - val_accuracy: 0.8215\n",
      "Epoch 10/25\n",
      "80/80 [==============================] - 0s 3ms/step - loss: 0.4045 - accuracy: 0.8268 - val_loss: 0.4110 - val_accuracy: 0.8195\n",
      "Epoch 11/25\n",
      "80/80 [==============================] - 0s 3ms/step - loss: 0.4213 - accuracy: 0.8147 - val_loss: 0.4054 - val_accuracy: 0.8220\n",
      "Epoch 12/25\n",
      "80/80 [==============================] - 0s 4ms/step - loss: 0.4057 - accuracy: 0.8297 - val_loss: 0.4008 - val_accuracy: 0.8230\n",
      "Epoch 13/25\n",
      "80/80 [==============================] - 0s 4ms/step - loss: 0.4102 - accuracy: 0.8208 - val_loss: 0.3947 - val_accuracy: 0.8310\n",
      "Epoch 14/25\n",
      "80/80 [==============================] - 0s 3ms/step - loss: 0.4011 - accuracy: 0.8244 - val_loss: 0.3900 - val_accuracy: 0.8295\n",
      "Epoch 15/25\n",
      "80/80 [==============================] - 0s 4ms/step - loss: 0.4020 - accuracy: 0.8206 - val_loss: 0.3841 - val_accuracy: 0.8350\n",
      "Epoch 16/25\n",
      "80/80 [==============================] - 0s 3ms/step - loss: 0.3848 - accuracy: 0.8328 - val_loss: 0.3820 - val_accuracy: 0.8355\n",
      "Epoch 17/25\n",
      "80/80 [==============================] - 0s 3ms/step - loss: 0.3853 - accuracy: 0.8299 - val_loss: 0.3760 - val_accuracy: 0.8435\n",
      "Epoch 18/25\n",
      "80/80 [==============================] - 0s 5ms/step - loss: 0.3797 - accuracy: 0.8419 - val_loss: 0.3715 - val_accuracy: 0.8465\n",
      "Epoch 19/25\n",
      "80/80 [==============================] - 0s 3ms/step - loss: 0.3796 - accuracy: 0.8341 - val_loss: 0.3677 - val_accuracy: 0.8490\n",
      "Epoch 20/25\n",
      "80/80 [==============================] - 0s 3ms/step - loss: 0.3723 - accuracy: 0.8457 - val_loss: 0.3657 - val_accuracy: 0.8495\n",
      "Epoch 21/25\n",
      "80/80 [==============================] - 0s 3ms/step - loss: 0.3657 - accuracy: 0.8458 - val_loss: 0.3614 - val_accuracy: 0.8525\n",
      "Epoch 22/25\n",
      "80/80 [==============================] - 0s 4ms/step - loss: 0.3701 - accuracy: 0.8415 - val_loss: 0.3585 - val_accuracy: 0.8515\n",
      "Epoch 23/25\n",
      "80/80 [==============================] - 0s 3ms/step - loss: 0.3604 - accuracy: 0.8524 - val_loss: 0.3570 - val_accuracy: 0.8560\n",
      "Epoch 24/25\n",
      "80/80 [==============================] - 0s 3ms/step - loss: 0.3571 - accuracy: 0.8536 - val_loss: 0.3547 - val_accuracy: 0.8585\n",
      "Epoch 25/25\n",
      "80/80 [==============================] - 0s 3ms/step - loss: 0.3684 - accuracy: 0.8471 - val_loss: 0.3532 - val_accuracy: 0.8575\n"
     ]
    },
    {
     "data": {
      "text/plain": [
       "<tensorflow.python.keras.callbacks.History at 0x263eb01a080>"
      ]
     },
     "execution_count": 27,
     "metadata": {},
     "output_type": "execute_result"
    }
   ],
   "source": [
    "classifier.fit(\n",
    "    X_train, \n",
    "    y_train, \n",
    "    epochs = 25, \n",
    "    validation_data =(X_test,y_test), \n",
    "    batch_size = 100, \n",
    "    callbacks = [histories]) # callbacks is for sending the data to app"
   ]
  },
  {
   "cell_type": "code",
   "execution_count": 28,
   "metadata": {
    "colab": {
     "base_uri": "https://localhost:8080/",
     "height": 1000
    },
    "id": "zQ50oSx9nciT",
    "outputId": "ea283f91-265a-4c68-d55b-c0d687801e59"
   },
   "outputs": [
    {
     "name": "stdout",
     "output_type": "stream",
     "text": [
      "Epoch 1/100\n",
      "54/54 [==============================] - 1s 13ms/step - loss: 0.3536 - accuracy: 0.8552 - val_loss: 0.3694 - val_accuracy: 0.8501\n",
      "Epoch 2/100\n",
      "54/54 [==============================] - 0s 5ms/step - loss: 0.3518 - accuracy: 0.8559 - val_loss: 0.3711 - val_accuracy: 0.8497\n",
      "Epoch 3/100\n",
      "54/54 [==============================] - 0s 6ms/step - loss: 0.3512 - accuracy: 0.8574 - val_loss: 0.3691 - val_accuracy: 0.8493\n",
      "Epoch 4/100\n",
      "54/54 [==============================] - 0s 6ms/step - loss: 0.3498 - accuracy: 0.8587 - val_loss: 0.3696 - val_accuracy: 0.8482\n",
      "Epoch 5/100\n",
      "54/54 [==============================] - 0s 5ms/step - loss: 0.3485 - accuracy: 0.8571 - val_loss: 0.3695 - val_accuracy: 0.8489\n",
      "Epoch 6/100\n",
      "54/54 [==============================] - 0s 5ms/step - loss: 0.3476 - accuracy: 0.8586 - val_loss: 0.3693 - val_accuracy: 0.8470\n",
      "Epoch 7/100\n",
      "54/54 [==============================] - 0s 5ms/step - loss: 0.3464 - accuracy: 0.8606 - val_loss: 0.3693 - val_accuracy: 0.8485\n",
      "Epoch 8/100\n",
      "54/54 [==============================] - 0s 5ms/step - loss: 0.3457 - accuracy: 0.8591 - val_loss: 0.3697 - val_accuracy: 0.8482\n",
      "Epoch 9/100\n",
      "54/54 [==============================] - 0s 5ms/step - loss: 0.3446 - accuracy: 0.8599 - val_loss: 0.3686 - val_accuracy: 0.8504\n",
      "Epoch 10/100\n",
      "54/54 [==============================] - 0s 7ms/step - loss: 0.3436 - accuracy: 0.8608 - val_loss: 0.3683 - val_accuracy: 0.8504\n",
      "Epoch 11/100\n",
      "54/54 [==============================] - 0s 5ms/step - loss: 0.3431 - accuracy: 0.8610 - val_loss: 0.3683 - val_accuracy: 0.8508\n",
      "Epoch 12/100\n",
      "54/54 [==============================] - 0s 7ms/step - loss: 0.3422 - accuracy: 0.8599 - val_loss: 0.3677 - val_accuracy: 0.8519\n",
      "Epoch 13/100\n",
      "54/54 [==============================] - 0s 7ms/step - loss: 0.3416 - accuracy: 0.8600 - val_loss: 0.3677 - val_accuracy: 0.8519\n",
      "Epoch 14/100\n",
      "54/54 [==============================] - 0s 7ms/step - loss: 0.3411 - accuracy: 0.8608 - val_loss: 0.3670 - val_accuracy: 0.8519\n",
      "Epoch 15/100\n",
      "54/54 [==============================] - 0s 7ms/step - loss: 0.3405 - accuracy: 0.8606 - val_loss: 0.3676 - val_accuracy: 0.8508\n",
      "Epoch 16/100\n",
      "54/54 [==============================] - ETA: 0s - loss: 0.3381 - accuracy: 0.86 - 0s 6ms/step - loss: 0.3403 - accuracy: 0.8593 - val_loss: 0.3671 - val_accuracy: 0.8519\n",
      "Epoch 17/100\n",
      "54/54 [==============================] - 0s 6ms/step - loss: 0.3390 - accuracy: 0.8608 - val_loss: 0.3683 - val_accuracy: 0.8489\n",
      "Epoch 18/100\n",
      "54/54 [==============================] - 0s 6ms/step - loss: 0.3392 - accuracy: 0.8615 - val_loss: 0.3669 - val_accuracy: 0.8523\n",
      "Epoch 19/100\n",
      "54/54 [==============================] - 0s 7ms/step - loss: 0.3380 - accuracy: 0.8614 - val_loss: 0.3671 - val_accuracy: 0.8519\n",
      "Epoch 20/100\n",
      "54/54 [==============================] - 0s 5ms/step - loss: 0.3372 - accuracy: 0.8617 - val_loss: 0.3662 - val_accuracy: 0.8531\n",
      "Epoch 21/100\n",
      "54/54 [==============================] - 0s 6ms/step - loss: 0.3369 - accuracy: 0.8602 - val_loss: 0.3677 - val_accuracy: 0.8508\n",
      "Epoch 22/100\n",
      "54/54 [==============================] - 0s 5ms/step - loss: 0.3371 - accuracy: 0.8625 - val_loss: 0.3659 - val_accuracy: 0.8516\n",
      "Epoch 23/100\n",
      "54/54 [==============================] - 0s 6ms/step - loss: 0.3359 - accuracy: 0.8632 - val_loss: 0.3656 - val_accuracy: 0.8516\n",
      "Epoch 24/100\n",
      "54/54 [==============================] - 0s 5ms/step - loss: 0.3360 - accuracy: 0.8612 - val_loss: 0.3659 - val_accuracy: 0.8512\n",
      "Epoch 25/100\n",
      "54/54 [==============================] - 0s 5ms/step - loss: 0.3350 - accuracy: 0.8630 - val_loss: 0.3652 - val_accuracy: 0.8519\n",
      "Epoch 26/100\n",
      "54/54 [==============================] - 0s 6ms/step - loss: 0.3344 - accuracy: 0.8638 - val_loss: 0.3655 - val_accuracy: 0.8516\n",
      "Epoch 27/100\n",
      "54/54 [==============================] - 0s 5ms/step - loss: 0.3344 - accuracy: 0.8630 - val_loss: 0.3643 - val_accuracy: 0.8527\n",
      "Epoch 28/100\n",
      "54/54 [==============================] - 0s 8ms/step - loss: 0.3341 - accuracy: 0.8623 - val_loss: 0.3644 - val_accuracy: 0.8538\n",
      "Epoch 29/100\n",
      "54/54 [==============================] - 0s 5ms/step - loss: 0.3333 - accuracy: 0.8628 - val_loss: 0.3641 - val_accuracy: 0.8523\n",
      "Epoch 30/100\n",
      "54/54 [==============================] - 0s 5ms/step - loss: 0.3334 - accuracy: 0.8614 - val_loss: 0.3639 - val_accuracy: 0.8519\n",
      "Epoch 31/100\n",
      "54/54 [==============================] - 0s 5ms/step - loss: 0.3335 - accuracy: 0.8634 - val_loss: 0.3640 - val_accuracy: 0.8519\n",
      "Epoch 32/100\n",
      "54/54 [==============================] - 0s 6ms/step - loss: 0.3327 - accuracy: 0.8640 - val_loss: 0.3640 - val_accuracy: 0.8516\n",
      "Epoch 33/100\n",
      "54/54 [==============================] - 0s 6ms/step - loss: 0.3323 - accuracy: 0.8628 - val_loss: 0.3635 - val_accuracy: 0.8527\n",
      "Epoch 34/100\n",
      "54/54 [==============================] - 0s 5ms/step - loss: 0.3323 - accuracy: 0.8625 - val_loss: 0.3633 - val_accuracy: 0.8538\n",
      "Epoch 35/100\n",
      "54/54 [==============================] - 0s 6ms/step - loss: 0.3318 - accuracy: 0.8645 - val_loss: 0.3638 - val_accuracy: 0.8523\n",
      "Epoch 36/100\n",
      "54/54 [==============================] - 0s 5ms/step - loss: 0.3314 - accuracy: 0.8634 - val_loss: 0.3636 - val_accuracy: 0.8512\n",
      "Epoch 37/100\n",
      "54/54 [==============================] - 0s 5ms/step - loss: 0.3311 - accuracy: 0.8630 - val_loss: 0.3632 - val_accuracy: 0.8523\n",
      "Epoch 38/100\n",
      "54/54 [==============================] - 0s 6ms/step - loss: 0.3316 - accuracy: 0.8645 - val_loss: 0.3633 - val_accuracy: 0.8542\n",
      "Epoch 39/100\n",
      "54/54 [==============================] - 0s 7ms/step - loss: 0.3304 - accuracy: 0.8632 - val_loss: 0.3632 - val_accuracy: 0.8519\n",
      "Epoch 40/100\n",
      "54/54 [==============================] - 0s 7ms/step - loss: 0.3309 - accuracy: 0.8634 - val_loss: 0.3627 - val_accuracy: 0.8531\n",
      "Epoch 41/100\n",
      "54/54 [==============================] - 0s 7ms/step - loss: 0.3298 - accuracy: 0.8640 - val_loss: 0.3624 - val_accuracy: 0.8523\n",
      "Epoch 42/100\n",
      "54/54 [==============================] - 0s 6ms/step - loss: 0.3297 - accuracy: 0.8636 - val_loss: 0.3624 - val_accuracy: 0.8519\n",
      "Epoch 43/100\n",
      "54/54 [==============================] - 0s 7ms/step - loss: 0.3295 - accuracy: 0.8640 - val_loss: 0.3622 - val_accuracy: 0.8523\n",
      "Epoch 44/100\n",
      "54/54 [==============================] - 0s 6ms/step - loss: 0.3293 - accuracy: 0.8651 - val_loss: 0.3625 - val_accuracy: 0.8519\n",
      "Epoch 45/100\n",
      "54/54 [==============================] - 0s 5ms/step - loss: 0.3295 - accuracy: 0.8642 - val_loss: 0.3629 - val_accuracy: 0.8527\n",
      "Epoch 46/100\n",
      "54/54 [==============================] - 0s 6ms/step - loss: 0.3289 - accuracy: 0.8634 - val_loss: 0.3614 - val_accuracy: 0.8531\n",
      "Epoch 47/100\n",
      "54/54 [==============================] - 0s 5ms/step - loss: 0.3286 - accuracy: 0.8664 - val_loss: 0.3622 - val_accuracy: 0.8535\n",
      "Epoch 48/100\n",
      "54/54 [==============================] - 0s 5ms/step - loss: 0.3288 - accuracy: 0.8645 - val_loss: 0.3613 - val_accuracy: 0.8542\n",
      "Epoch 49/100\n",
      "54/54 [==============================] - 0s 6ms/step - loss: 0.3282 - accuracy: 0.8643 - val_loss: 0.3613 - val_accuracy: 0.8527\n",
      "Epoch 50/100\n",
      "54/54 [==============================] - 0s 7ms/step - loss: 0.3280 - accuracy: 0.8670 - val_loss: 0.3614 - val_accuracy: 0.8527\n",
      "Epoch 51/100\n",
      "54/54 [==============================] - 0s 6ms/step - loss: 0.3283 - accuracy: 0.8656 - val_loss: 0.3613 - val_accuracy: 0.8527\n",
      "Epoch 52/100\n",
      "54/54 [==============================] - 0s 6ms/step - loss: 0.3276 - accuracy: 0.8662 - val_loss: 0.3615 - val_accuracy: 0.8542\n",
      "Epoch 53/100\n",
      "54/54 [==============================] - 0s 6ms/step - loss: 0.3276 - accuracy: 0.8679 - val_loss: 0.3617 - val_accuracy: 0.8523\n",
      "Epoch 54/100\n",
      "54/54 [==============================] - 0s 6ms/step - loss: 0.3286 - accuracy: 0.8649 - val_loss: 0.3615 - val_accuracy: 0.8523\n",
      "Epoch 55/100\n",
      "54/54 [==============================] - 0s 7ms/step - loss: 0.3271 - accuracy: 0.8670 - val_loss: 0.3608 - val_accuracy: 0.8546\n",
      "Epoch 56/100\n",
      "54/54 [==============================] - 0s 7ms/step - loss: 0.3269 - accuracy: 0.8664 - val_loss: 0.3613 - val_accuracy: 0.8527\n",
      "Epoch 57/100\n",
      "54/54 [==============================] - 0s 7ms/step - loss: 0.3267 - accuracy: 0.8649 - val_loss: 0.3621 - val_accuracy: 0.8527\n",
      "Epoch 58/100\n"
     ]
    },
    {
     "name": "stdout",
     "output_type": "stream",
     "text": [
      "54/54 [==============================] - 0s 7ms/step - loss: 0.3270 - accuracy: 0.8664 - val_loss: 0.3615 - val_accuracy: 0.8535\n",
      "Epoch 59/100\n",
      "54/54 [==============================] - 0s 7ms/step - loss: 0.3266 - accuracy: 0.8660 - val_loss: 0.3612 - val_accuracy: 0.8508\n",
      "Epoch 60/100\n",
      "54/54 [==============================] - 0s 6ms/step - loss: 0.3267 - accuracy: 0.8671 - val_loss: 0.3609 - val_accuracy: 0.8527\n",
      "Epoch 61/100\n",
      "54/54 [==============================] - 0s 6ms/step - loss: 0.3272 - accuracy: 0.8651 - val_loss: 0.3606 - val_accuracy: 0.8512\n",
      "Epoch 62/100\n",
      "54/54 [==============================] - 0s 6ms/step - loss: 0.3265 - accuracy: 0.8658 - val_loss: 0.3607 - val_accuracy: 0.8531\n",
      "Epoch 63/100\n",
      "54/54 [==============================] - 0s 7ms/step - loss: 0.3263 - accuracy: 0.8649 - val_loss: 0.3614 - val_accuracy: 0.8527\n",
      "Epoch 64/100\n",
      "54/54 [==============================] - 0s 7ms/step - loss: 0.3264 - accuracy: 0.8664 - val_loss: 0.3609 - val_accuracy: 0.8535\n",
      "Epoch 65/100\n",
      "54/54 [==============================] - 0s 6ms/step - loss: 0.3260 - accuracy: 0.8656 - val_loss: 0.3608 - val_accuracy: 0.8531\n",
      "Epoch 66/100\n",
      "54/54 [==============================] - 0s 5ms/step - loss: 0.3258 - accuracy: 0.8679 - val_loss: 0.3608 - val_accuracy: 0.8516\n",
      "Epoch 67/100\n",
      "54/54 [==============================] - 0s 5ms/step - loss: 0.3260 - accuracy: 0.8662 - val_loss: 0.3605 - val_accuracy: 0.8535\n",
      "Epoch 68/100\n",
      "54/54 [==============================] - 0s 5ms/step - loss: 0.3259 - accuracy: 0.8660 - val_loss: 0.3612 - val_accuracy: 0.8512\n",
      "Epoch 69/100\n",
      "54/54 [==============================] - 0s 7ms/step - loss: 0.3263 - accuracy: 0.8660 - val_loss: 0.3607 - val_accuracy: 0.8531\n",
      "Epoch 70/100\n",
      "54/54 [==============================] - 0s 5ms/step - loss: 0.3255 - accuracy: 0.8671 - val_loss: 0.3608 - val_accuracy: 0.8527\n",
      "Epoch 71/100\n",
      "54/54 [==============================] - 0s 5ms/step - loss: 0.3255 - accuracy: 0.8660 - val_loss: 0.3608 - val_accuracy: 0.8519\n",
      "Epoch 72/100\n",
      "54/54 [==============================] - 0s 7ms/step - loss: 0.3254 - accuracy: 0.8660 - val_loss: 0.3610 - val_accuracy: 0.8527\n",
      "Epoch 73/100\n",
      "54/54 [==============================] - 0s 6ms/step - loss: 0.3251 - accuracy: 0.8651 - val_loss: 0.3615 - val_accuracy: 0.8538\n",
      "Epoch 74/100\n",
      "54/54 [==============================] - 0s 6ms/step - loss: 0.3259 - accuracy: 0.8660 - val_loss: 0.3607 - val_accuracy: 0.8527\n",
      "Epoch 75/100\n",
      "54/54 [==============================] - 0s 5ms/step - loss: 0.3253 - accuracy: 0.8683 - val_loss: 0.3608 - val_accuracy: 0.8519\n",
      "Epoch 76/100\n",
      "54/54 [==============================] - 0s 5ms/step - loss: 0.3254 - accuracy: 0.8651 - val_loss: 0.3616 - val_accuracy: 0.8523\n",
      "Epoch 77/100\n",
      "54/54 [==============================] - 0s 5ms/step - loss: 0.3255 - accuracy: 0.8671 - val_loss: 0.3611 - val_accuracy: 0.8538\n",
      "Epoch 78/100\n",
      "54/54 [==============================] - 0s 7ms/step - loss: 0.3249 - accuracy: 0.8677 - val_loss: 0.3607 - val_accuracy: 0.8538\n",
      "Epoch 79/100\n",
      "54/54 [==============================] - 0s 5ms/step - loss: 0.3251 - accuracy: 0.8655 - val_loss: 0.3602 - val_accuracy: 0.8527\n",
      "Epoch 80/100\n",
      "54/54 [==============================] - 0s 6ms/step - loss: 0.3249 - accuracy: 0.8651 - val_loss: 0.3606 - val_accuracy: 0.8535\n",
      "Epoch 81/100\n",
      "54/54 [==============================] - 0s 7ms/step - loss: 0.3246 - accuracy: 0.8664 - val_loss: 0.3608 - val_accuracy: 0.8546\n",
      "Epoch 82/100\n",
      "54/54 [==============================] - 0s 6ms/step - loss: 0.3247 - accuracy: 0.8671 - val_loss: 0.3611 - val_accuracy: 0.8527\n",
      "Epoch 83/100\n",
      "54/54 [==============================] - 0s 5ms/step - loss: 0.3249 - accuracy: 0.8675 - val_loss: 0.3614 - val_accuracy: 0.8538\n",
      "Epoch 84/100\n",
      "54/54 [==============================] - 0s 5ms/step - loss: 0.3245 - accuracy: 0.8649 - val_loss: 0.3607 - val_accuracy: 0.8523\n",
      "Epoch 85/100\n",
      "54/54 [==============================] - 0s 5ms/step - loss: 0.3240 - accuracy: 0.8675 - val_loss: 0.3631 - val_accuracy: 0.8501\n",
      "Epoch 86/100\n",
      "54/54 [==============================] - 0s 5ms/step - loss: 0.3249 - accuracy: 0.8649 - val_loss: 0.3606 - val_accuracy: 0.8531\n",
      "Epoch 87/100\n",
      "54/54 [==============================] - 0s 5ms/step - loss: 0.3246 - accuracy: 0.8653 - val_loss: 0.3615 - val_accuracy: 0.8550\n",
      "Epoch 88/100\n",
      "54/54 [==============================] - 0s 5ms/step - loss: 0.3241 - accuracy: 0.8653 - val_loss: 0.3608 - val_accuracy: 0.8527\n",
      "Epoch 89/100\n",
      "54/54 [==============================] - 0s 6ms/step - loss: 0.3245 - accuracy: 0.8664 - val_loss: 0.3608 - val_accuracy: 0.8523\n",
      "Epoch 90/100\n",
      "54/54 [==============================] - 0s 7ms/step - loss: 0.3241 - accuracy: 0.8664 - val_loss: 0.3627 - val_accuracy: 0.8523\n",
      "Epoch 91/100\n",
      "54/54 [==============================] - 0s 6ms/step - loss: 0.3244 - accuracy: 0.8660 - val_loss: 0.3613 - val_accuracy: 0.8538\n",
      "Epoch 92/100\n",
      "54/54 [==============================] - 0s 5ms/step - loss: 0.3242 - accuracy: 0.8658 - val_loss: 0.3607 - val_accuracy: 0.8546\n",
      "Epoch 93/100\n",
      "54/54 [==============================] - 0s 5ms/step - loss: 0.3243 - accuracy: 0.8649 - val_loss: 0.3614 - val_accuracy: 0.8535\n",
      "Epoch 94/100\n",
      "54/54 [==============================] - 0s 6ms/step - loss: 0.3237 - accuracy: 0.8666 - val_loss: 0.3610 - val_accuracy: 0.8542\n",
      "Epoch 95/100\n",
      "54/54 [==============================] - 0s 6ms/step - loss: 0.3241 - accuracy: 0.8675 - val_loss: 0.3612 - val_accuracy: 0.8535\n",
      "Epoch 96/100\n",
      "54/54 [==============================] - ETA: 0s - loss: 0.3298 - accuracy: 0.86 - 0s 5ms/step - loss: 0.3240 - accuracy: 0.8670 - val_loss: 0.3622 - val_accuracy: 0.8546\n",
      "Epoch 97/100\n",
      "54/54 [==============================] - 0s 6ms/step - loss: 0.3241 - accuracy: 0.8642 - val_loss: 0.3607 - val_accuracy: 0.8535\n",
      "Epoch 98/100\n",
      "54/54 [==============================] - 0s 6ms/step - loss: 0.3236 - accuracy: 0.8660 - val_loss: 0.3610 - val_accuracy: 0.8542\n",
      "Epoch 99/100\n",
      "54/54 [==============================] - 0s 6ms/step - loss: 0.3243 - accuracy: 0.8656 - val_loss: 0.3613 - val_accuracy: 0.8538\n",
      "Epoch 100/100\n",
      "54/54 [==============================] - 0s 6ms/step - loss: 0.3254 - accuracy: 0.8642 - val_loss: 0.3609 - val_accuracy: 0.8542\n"
     ]
    }
   ],
   "source": [
    "# Fitting the ANN to the Training set\n",
    "model_history=classifier.fit(X_train, y_train,validation_split=0.33, batch_size = 100,epochs = 100,callbacks = [histories])"
   ]
  },
  {
   "cell_type": "code",
   "execution_count": 29,
   "metadata": {},
   "outputs": [
    {
     "data": {
      "text/plain": [
       "dict_keys(['loss', 'accuracy', 'val_loss', 'val_accuracy'])"
      ]
     },
     "execution_count": 29,
     "metadata": {},
     "output_type": "execute_result"
    }
   ],
   "source": [
    "model_history.history.keys()"
   ]
  },
  {
   "cell_type": "code",
   "execution_count": 30,
   "metadata": {
    "colab": {
     "base_uri": "https://localhost:8080/",
     "height": 312
    },
    "id": "9YYQKNLFoGqY",
    "outputId": "f170571c-a7cf-4383-af87-7819a4bb025c"
   },
   "outputs": [
    {
     "name": "stdout",
     "output_type": "stream",
     "text": [
      "dict_keys(['loss', 'accuracy', 'val_loss', 'val_accuracy'])\n"
     ]
    },
    {
     "data": {
      "image/png": "[encoded data removed]",
      "text/plain": [
       "<Figure size 432x288 with 1 Axes>"
      ]
     },
     "metadata": {
      "needs_background": "light"
     },
     "output_type": "display_data"
    }
   ],
   "source": [
    "# list all data in history\n",
    "\n",
    "print(model_history.history.keys())\n",
    "# summarize history for accuracy\n",
    "plt.plot(model_history.history['accuracy'])\n",
    "plt.plot(model_history.history['val_accuracy'])\n",
    "plt.title('model accuracy')\n",
    "plt.ylabel('accuracy')\n",
    "plt.xlabel('epoch')\n",
    "plt.legend(['train', 'test'], loc='upper left')\n",
    "plt.show()"
   ]
  },
  {
   "cell_type": "code",
   "execution_count": 31,
   "metadata": {
    "colab": {
     "base_uri": "https://localhost:8080/",
     "height": 295
    },
    "id": "SxqMInP_ogni",
    "outputId": "835a8964-4895-4e22-958d-22f94f7ba258"
   },
   "outputs": [
    {
     "data": {
      "image/png": "[encoded data removed]",
      "text/plain": [
       "<Figure size 432x288 with 1 Axes>"
      ]
     },
     "metadata": {
      "needs_background": "light"
     },
     "output_type": "display_data"
    }
   ],
   "source": [
    "# summarize history for loss\n",
    "plt.plot(model_history.history['loss'])\n",
    "plt.plot(model_history.history['val_loss'])\n",
    "plt.title('model loss')\n",
    "plt.ylabel('loss')\n",
    "plt.xlabel('epoch')\n",
    "plt.legend(['train', 'test'], loc='upper left')\n",
    "plt.show()"
   ]
  },
  {
   "cell_type": "code",
   "execution_count": 32,
   "metadata": {
    "id": "y2_wiHsdor3R"
   },
   "outputs": [],
   "source": [
    "# Part 3 - Making the predictions and evaluating the model\n",
    "\n",
    "# Predicting the Test set results\n",
    "y_pred = classifier.predict(X_test)\n",
    "y_pred = (y_pred > 0.5)"
   ]
  },
  {
   "cell_type": "code",
   "execution_count": 33,
   "metadata": {},
   "outputs": [
    {
     "data": {
      "text/plain": [
       "array([[False],\n",
       "       [False],\n",
       "       [False],\n",
       "       ...,\n",
       "       [False],\n",
       "       [False],\n",
       "       [False]])"
      ]
     },
     "execution_count": 33,
     "metadata": {},
     "output_type": "execute_result"
    }
   ],
   "source": [
    "y_pred"
   ]
  },
  {
   "cell_type": "code",
   "execution_count": 34,
   "metadata": {
    "id": "6aOhNA4iovzu"
   },
   "outputs": [],
   "source": [
    "# Making the Confusion Matrix\n",
    "from sklearn.metrics import confusion_matrix\n",
    "cm = confusion_matrix(y_test, y_pred)"
   ]
  },
  {
   "cell_type": "code",
   "execution_count": 35,
   "metadata": {
    "colab": {
     "base_uri": "https://localhost:8080/",
     "height": 51
    },
    "id": "my6JGfzioxy2",
    "outputId": "cb6636fb-91ab-43a9-e628-b5fc35e56d31"
   },
   "outputs": [
    {
     "data": {
      "text/plain": [
       "array([[1507,   88],\n",
       "       [ 191,  214]], dtype=int64)"
      ]
     },
     "execution_count": 35,
     "metadata": {},
     "output_type": "execute_result"
    }
   ],
   "source": [
    "cm"
   ]
  },
  {
   "cell_type": "code",
   "execution_count": 36,
   "metadata": {
    "id": "G4FVoJl7oyr_"
   },
   "outputs": [],
   "source": [
    "# Calculate the Accuracy\n",
    "from sklearn.metrics import accuracy_score\n",
    "score=accuracy_score(y_pred,y_test)"
   ]
  },
  {
   "cell_type": "code",
   "execution_count": 61,
   "metadata": {
    "colab": {
     "base_uri": "https://localhost:8080/",
     "height": 34
    },
    "id": "Y4Nlv_pjo1GQ",
    "outputId": "74725c7a-4272-4081-ea3a-a94d3ccca9a0"
   },
   "outputs": [
    {
     "data": {
      "text/plain": [
       "0.855"
      ]
     },
     "execution_count": 61,
     "metadata": {},
     "output_type": "execute_result"
    }
   ],
   "source": [
    "score"
   ]
  }
 ],
 "metadata": {
  "accelerator": "GPU",
  "colab": {
   "name": "GIMANN.ipynb",
   "provenance": []
  },
  "kernelspec": {
   "display_name": "keras_tuner",
   "language": "python",
   "name": "keras_tuner"
  },
  "language_info": {
   "codemirror_mode": {
    "name": "ipython",
    "version": 3
   },
   "file_extension": ".py",
   "mimetype": "text/x-python",
   "name": "python",
   "nbconvert_exporter": "python",
   "pygments_lexer": "ipython3",
   "version": "3.6.12"
  }
 },
 "nbformat": 4,
 "nbformat_minor": 1
}
