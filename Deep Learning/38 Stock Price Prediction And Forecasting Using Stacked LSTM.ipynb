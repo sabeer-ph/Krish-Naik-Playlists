{
 "cells": [
  {
   "cell_type": "markdown",
   "metadata": {},
   "source": [
    "### Stock Market Prediction And Forecasting Using Stacked LSTM"
   ]
  },
  {
   "cell_type": "code",
   "execution_count": 1,
   "metadata": {},
   "outputs": [],
   "source": [
    "### Keras and Tensorflow >2.0"
   ]
  },
  {
   "cell_type": "code",
   "execution_count": 4,
   "metadata": {},
   "outputs": [],
   "source": [
    "### Data Collection\n",
    "import pandas_datareader as pdr\n",
    "key=\"5b66a92a38eb7dbd5b80b4ba251abc6e4697dc6d\" # register at tiingo.com, sign in --> go to api --> authentication --> API key"
   ]
  },
  {
   "cell_type": "code",
   "execution_count": 5,
   "metadata": {},
   "outputs": [],
   "source": [
    "df = pdr.get_data_tiingo('AAPL', api_key=key)"
   ]
  },
  {
   "cell_type": "code",
   "execution_count": 6,
   "metadata": {},
   "outputs": [],
   "source": [
    "df.to_csv('./Data/38 AAPL.csv')"
   ]
  },
  {
   "cell_type": "code",
   "execution_count": 7,
   "metadata": {},
   "outputs": [],
   "source": [
    "import pandas as pd"
   ]
  },
  {
   "cell_type": "code",
   "execution_count": 8,
   "metadata": {},
   "outputs": [],
   "source": [
    "df=pd.read_csv('./Data/38 AAPL.csv')"
   ]
  },
  {
   "cell_type": "code",
   "execution_count": 10,
   "metadata": {},
   "outputs": [
    {
     "data": {
      "text/plain": [
       "2750"
      ]
     },
     "execution_count": 10,
     "metadata": {},
     "output_type": "execute_result"
    }
   ],
   "source": [
    "df.head()\n",
    "len(df)"
   ]
  },
  {
   "cell_type": "code",
   "execution_count": 16,
   "metadata": {},
   "outputs": [
    {
     "data": {
      "text/html": [
       "<div>\n",
       "<style scoped>\n",
       "    .dataframe tbody tr th:only-of-type {\n",
       "        vertical-align: middle;\n",
       "    }\n",
       "\n",
       "    .dataframe tbody tr th {\n",
       "        vertical-align: top;\n",
       "    }\n",
       "\n",
       "    .dataframe thead th {\n",
       "        text-align: right;\n",
       "    }\n",
       "</style>\n",
       "<table border=\"1\" class=\"dataframe\">\n",
       "  <thead>\n",
       "    <tr style=\"text-align: right;\">\n",
       "      <th></th>\n",
       "      <th>symbol</th>\n",
       "      <th>date</th>\n",
       "      <th>adjClose</th>\n",
       "      <th>adjHigh</th>\n",
       "      <th>adjLow</th>\n",
       "      <th>adjOpen</th>\n",
       "      <th>adjVolume</th>\n",
       "      <th>close</th>\n",
       "      <th>divCash</th>\n",
       "      <th>high</th>\n",
       "      <th>low</th>\n",
       "      <th>open</th>\n",
       "      <th>splitFactor</th>\n",
       "      <th>volume</th>\n",
       "    </tr>\n",
       "  </thead>\n",
       "  <tbody>\n",
       "    <tr>\n",
       "      <th>2735</th>\n",
       "      <td>AAPL</td>\n",
       "      <td>2020-11-12 00:00:00+00:00</td>\n",
       "      <td>119.21</td>\n",
       "      <td>120.5300</td>\n",
       "      <td>118.570</td>\n",
       "      <td>119.62</td>\n",
       "      <td>103350674</td>\n",
       "      <td>119.21</td>\n",
       "      <td>0.0</td>\n",
       "      <td>120.5300</td>\n",
       "      <td>118.570</td>\n",
       "      <td>119.62</td>\n",
       "      <td>1.0</td>\n",
       "      <td>103350674</td>\n",
       "    </tr>\n",
       "    <tr>\n",
       "      <th>2736</th>\n",
       "      <td>AAPL</td>\n",
       "      <td>2020-11-13 00:00:00+00:00</td>\n",
       "      <td>119.26</td>\n",
       "      <td>119.6717</td>\n",
       "      <td>117.870</td>\n",
       "      <td>119.44</td>\n",
       "      <td>81688586</td>\n",
       "      <td>119.26</td>\n",
       "      <td>0.0</td>\n",
       "      <td>119.6717</td>\n",
       "      <td>117.870</td>\n",
       "      <td>119.44</td>\n",
       "      <td>1.0</td>\n",
       "      <td>81688586</td>\n",
       "    </tr>\n",
       "    <tr>\n",
       "      <th>2737</th>\n",
       "      <td>AAPL</td>\n",
       "      <td>2020-11-16 00:00:00+00:00</td>\n",
       "      <td>120.30</td>\n",
       "      <td>120.9900</td>\n",
       "      <td>118.146</td>\n",
       "      <td>118.92</td>\n",
       "      <td>91183018</td>\n",
       "      <td>120.30</td>\n",
       "      <td>0.0</td>\n",
       "      <td>120.9900</td>\n",
       "      <td>118.146</td>\n",
       "      <td>118.92</td>\n",
       "      <td>1.0</td>\n",
       "      <td>91183018</td>\n",
       "    </tr>\n",
       "    <tr>\n",
       "      <th>2738</th>\n",
       "      <td>AAPL</td>\n",
       "      <td>2020-11-17 00:00:00+00:00</td>\n",
       "      <td>119.39</td>\n",
       "      <td>120.6741</td>\n",
       "      <td>118.960</td>\n",
       "      <td>119.55</td>\n",
       "      <td>74270973</td>\n",
       "      <td>119.39</td>\n",
       "      <td>0.0</td>\n",
       "      <td>120.6741</td>\n",
       "      <td>118.960</td>\n",
       "      <td>119.55</td>\n",
       "      <td>1.0</td>\n",
       "      <td>74270973</td>\n",
       "    </tr>\n",
       "    <tr>\n",
       "      <th>2739</th>\n",
       "      <td>AAPL</td>\n",
       "      <td>2020-11-18 00:00:00+00:00</td>\n",
       "      <td>118.03</td>\n",
       "      <td>119.8200</td>\n",
       "      <td>118.000</td>\n",
       "      <td>118.61</td>\n",
       "      <td>76322111</td>\n",
       "      <td>118.03</td>\n",
       "      <td>0.0</td>\n",
       "      <td>119.8200</td>\n",
       "      <td>118.000</td>\n",
       "      <td>118.61</td>\n",
       "      <td>1.0</td>\n",
       "      <td>76322111</td>\n",
       "    </tr>\n",
       "    <tr>\n",
       "      <th>2740</th>\n",
       "      <td>AAPL</td>\n",
       "      <td>2020-11-19 00:00:00+00:00</td>\n",
       "      <td>118.64</td>\n",
       "      <td>119.0600</td>\n",
       "      <td>116.810</td>\n",
       "      <td>117.59</td>\n",
       "      <td>74112972</td>\n",
       "      <td>118.64</td>\n",
       "      <td>0.0</td>\n",
       "      <td>119.0600</td>\n",
       "      <td>116.810</td>\n",
       "      <td>117.59</td>\n",
       "      <td>1.0</td>\n",
       "      <td>74112972</td>\n",
       "    </tr>\n",
       "    <tr>\n",
       "      <th>2741</th>\n",
       "      <td>AAPL</td>\n",
       "      <td>2020-11-20 00:00:00+00:00</td>\n",
       "      <td>117.34</td>\n",
       "      <td>118.7700</td>\n",
       "      <td>117.290</td>\n",
       "      <td>118.64</td>\n",
       "      <td>73604287</td>\n",
       "      <td>117.34</td>\n",
       "      <td>0.0</td>\n",
       "      <td>118.7700</td>\n",
       "      <td>117.290</td>\n",
       "      <td>118.64</td>\n",
       "      <td>1.0</td>\n",
       "      <td>73604287</td>\n",
       "    </tr>\n",
       "    <tr>\n",
       "      <th>2742</th>\n",
       "      <td>AAPL</td>\n",
       "      <td>2020-11-23 00:00:00+00:00</td>\n",
       "      <td>113.85</td>\n",
       "      <td>117.6202</td>\n",
       "      <td>113.750</td>\n",
       "      <td>117.18</td>\n",
       "      <td>127959318</td>\n",
       "      <td>113.85</td>\n",
       "      <td>0.0</td>\n",
       "      <td>117.6202</td>\n",
       "      <td>113.750</td>\n",
       "      <td>117.18</td>\n",
       "      <td>1.0</td>\n",
       "      <td>127959318</td>\n",
       "    </tr>\n",
       "    <tr>\n",
       "      <th>2743</th>\n",
       "      <td>AAPL</td>\n",
       "      <td>2020-11-24 00:00:00+00:00</td>\n",
       "      <td>115.17</td>\n",
       "      <td>115.8500</td>\n",
       "      <td>112.590</td>\n",
       "      <td>113.91</td>\n",
       "      <td>113226248</td>\n",
       "      <td>115.17</td>\n",
       "      <td>0.0</td>\n",
       "      <td>115.8500</td>\n",
       "      <td>112.590</td>\n",
       "      <td>113.91</td>\n",
       "      <td>1.0</td>\n",
       "      <td>113226248</td>\n",
       "    </tr>\n",
       "    <tr>\n",
       "      <th>2744</th>\n",
       "      <td>AAPL</td>\n",
       "      <td>2020-11-25 00:00:00+00:00</td>\n",
       "      <td>116.03</td>\n",
       "      <td>116.7500</td>\n",
       "      <td>115.170</td>\n",
       "      <td>115.55</td>\n",
       "      <td>76499234</td>\n",
       "      <td>116.03</td>\n",
       "      <td>0.0</td>\n",
       "      <td>116.7500</td>\n",
       "      <td>115.170</td>\n",
       "      <td>115.55</td>\n",
       "      <td>1.0</td>\n",
       "      <td>76499234</td>\n",
       "    </tr>\n",
       "    <tr>\n",
       "      <th>2745</th>\n",
       "      <td>AAPL</td>\n",
       "      <td>2020-11-27 00:00:00+00:00</td>\n",
       "      <td>116.59</td>\n",
       "      <td>117.4900</td>\n",
       "      <td>116.220</td>\n",
       "      <td>116.57</td>\n",
       "      <td>46691331</td>\n",
       "      <td>116.59</td>\n",
       "      <td>0.0</td>\n",
       "      <td>117.4900</td>\n",
       "      <td>116.220</td>\n",
       "      <td>116.57</td>\n",
       "      <td>1.0</td>\n",
       "      <td>46691331</td>\n",
       "    </tr>\n",
       "    <tr>\n",
       "      <th>2746</th>\n",
       "      <td>AAPL</td>\n",
       "      <td>2020-11-30 00:00:00+00:00</td>\n",
       "      <td>119.05</td>\n",
       "      <td>120.9700</td>\n",
       "      <td>116.810</td>\n",
       "      <td>116.97</td>\n",
       "      <td>169410176</td>\n",
       "      <td>119.05</td>\n",
       "      <td>0.0</td>\n",
       "      <td>120.9700</td>\n",
       "      <td>116.810</td>\n",
       "      <td>116.97</td>\n",
       "      <td>1.0</td>\n",
       "      <td>169410176</td>\n",
       "    </tr>\n",
       "    <tr>\n",
       "      <th>2747</th>\n",
       "      <td>AAPL</td>\n",
       "      <td>2020-12-01 00:00:00+00:00</td>\n",
       "      <td>122.72</td>\n",
       "      <td>123.4693</td>\n",
       "      <td>120.010</td>\n",
       "      <td>121.01</td>\n",
       "      <td>125920963</td>\n",
       "      <td>122.72</td>\n",
       "      <td>0.0</td>\n",
       "      <td>123.4693</td>\n",
       "      <td>120.010</td>\n",
       "      <td>121.01</td>\n",
       "      <td>1.0</td>\n",
       "      <td>125920963</td>\n",
       "    </tr>\n",
       "    <tr>\n",
       "      <th>2748</th>\n",
       "      <td>AAPL</td>\n",
       "      <td>2020-12-02 00:00:00+00:00</td>\n",
       "      <td>123.08</td>\n",
       "      <td>123.3700</td>\n",
       "      <td>120.890</td>\n",
       "      <td>122.02</td>\n",
       "      <td>89004195</td>\n",
       "      <td>123.08</td>\n",
       "      <td>0.0</td>\n",
       "      <td>123.3700</td>\n",
       "      <td>120.890</td>\n",
       "      <td>122.02</td>\n",
       "      <td>1.0</td>\n",
       "      <td>89004195</td>\n",
       "    </tr>\n",
       "    <tr>\n",
       "      <th>2749</th>\n",
       "      <td>AAPL</td>\n",
       "      <td>2020-12-03 00:00:00+00:00</td>\n",
       "      <td>122.94</td>\n",
       "      <td>123.7800</td>\n",
       "      <td>122.210</td>\n",
       "      <td>123.52</td>\n",
       "      <td>78967630</td>\n",
       "      <td>122.94</td>\n",
       "      <td>0.0</td>\n",
       "      <td>123.7800</td>\n",
       "      <td>122.210</td>\n",
       "      <td>123.52</td>\n",
       "      <td>1.0</td>\n",
       "      <td>78967630</td>\n",
       "    </tr>\n",
       "  </tbody>\n",
       "</table>\n",
       "</div>"
      ],
      "text/plain": [
       "     symbol                       date  adjClose   adjHigh   adjLow  adjOpen  \\\n",
       "2735   AAPL  2020-11-12 00:00:00+00:00    119.21  120.5300  118.570   119.62   \n",
       "2736   AAPL  2020-11-13 00:00:00+00:00    119.26  119.6717  117.870   119.44   \n",
       "2737   AAPL  2020-11-16 00:00:00+00:00    120.30  120.9900  118.146   118.92   \n",
       "2738   AAPL  2020-11-17 00:00:00+00:00    119.39  120.6741  118.960   119.55   \n",
       "2739   AAPL  2020-11-18 00:00:00+00:00    118.03  119.8200  118.000   118.61   \n",
       "2740   AAPL  2020-11-19 00:00:00+00:00    118.64  119.0600  116.810   117.59   \n",
       "2741   AAPL  2020-11-20 00:00:00+00:00    117.34  118.7700  117.290   118.64   \n",
       "2742   AAPL  2020-11-23 00:00:00+00:00    113.85  117.6202  113.750   117.18   \n",
       "2743   AAPL  2020-11-24 00:00:00+00:00    115.17  115.8500  112.590   113.91   \n",
       "2744   AAPL  2020-11-25 00:00:00+00:00    116.03  116.7500  115.170   115.55   \n",
       "2745   AAPL  2020-11-27 00:00:00+00:00    116.59  117.4900  116.220   116.57   \n",
       "2746   AAPL  2020-11-30 00:00:00+00:00    119.05  120.9700  116.810   116.97   \n",
       "2747   AAPL  2020-12-01 00:00:00+00:00    122.72  123.4693  120.010   121.01   \n",
       "2748   AAPL  2020-12-02 00:00:00+00:00    123.08  123.3700  120.890   122.02   \n",
       "2749   AAPL  2020-12-03 00:00:00+00:00    122.94  123.7800  122.210   123.52   \n",
       "\n",
       "      adjVolume   close  divCash      high      low    open  splitFactor  \\\n",
       "2735  103350674  119.21      0.0  120.5300  118.570  119.62          1.0   \n",
       "2736   81688586  119.26      0.0  119.6717  117.870  119.44          1.0   \n",
       "2737   91183018  120.30      0.0  120.9900  118.146  118.92          1.0   \n",
       "2738   74270973  119.39      0.0  120.6741  118.960  119.55          1.0   \n",
       "2739   76322111  118.03      0.0  119.8200  118.000  118.61          1.0   \n",
       "2740   74112972  118.64      0.0  119.0600  116.810  117.59          1.0   \n",
       "2741   73604287  117.34      0.0  118.7700  117.290  118.64          1.0   \n",
       "2742  127959318  113.85      0.0  117.6202  113.750  117.18          1.0   \n",
       "2743  113226248  115.17      0.0  115.8500  112.590  113.91          1.0   \n",
       "2744   76499234  116.03      0.0  116.7500  115.170  115.55          1.0   \n",
       "2745   46691331  116.59      0.0  117.4900  116.220  116.57          1.0   \n",
       "2746  169410176  119.05      0.0  120.9700  116.810  116.97          1.0   \n",
       "2747  125920963  122.72      0.0  123.4693  120.010  121.01          1.0   \n",
       "2748   89004195  123.08      0.0  123.3700  120.890  122.02          1.0   \n",
       "2749   78967630  122.94      0.0  123.7800  122.210  123.52          1.0   \n",
       "\n",
       "         volume  \n",
       "2735  103350674  \n",
       "2736   81688586  \n",
       "2737   91183018  \n",
       "2738   74270973  \n",
       "2739   76322111  \n",
       "2740   74112972  \n",
       "2741   73604287  \n",
       "2742  127959318  \n",
       "2743  113226248  \n",
       "2744   76499234  \n",
       "2745   46691331  \n",
       "2746  169410176  \n",
       "2747  125920963  \n",
       "2748   89004195  \n",
       "2749   78967630  "
      ]
     },
     "execution_count": 16,
     "metadata": {},
     "output_type": "execute_result"
    }
   ],
   "source": [
    "df.tail(15)"
   ]
  },
  {
   "cell_type": "code",
   "execution_count": 12,
   "metadata": {},
   "outputs": [],
   "source": [
    "df1=df.reset_index()['close']"
   ]
  },
  {
   "cell_type": "code",
   "execution_count": 22,
   "metadata": {},
   "outputs": [
    {
     "data": {
      "text/plain": [
       "702.1"
      ]
     },
     "execution_count": 22,
     "metadata": {},
     "output_type": "execute_result"
    }
   ],
   "source": [
    "df1[2680]\n",
    "df1.max()"
   ]
  },
  {
   "cell_type": "code",
   "execution_count": 15,
   "metadata": {},
   "outputs": [
    {
     "data": {
      "image/png": "[encoded data removed]",
      "text/plain": [
       "<Figure size 432x288 with 1 Axes>"
      ]
     },
     "metadata": {
      "needs_background": "light"
     },
     "output_type": "display_data"
    }
   ],
   "source": [
    "import matplotlib.pyplot as plt\n",
    "plt.plot(df1)\n",
    "plt.show()"
   ]
  },
  {
   "cell_type": "code",
   "execution_count": 291,
   "metadata": {},
   "outputs": [],
   "source": [
    "### LSTM are sensitive to the scale of the data. so we apply MinMax scaler "
   ]
  },
  {
   "cell_type": "code",
   "execution_count": 292,
   "metadata": {},
   "outputs": [],
   "source": [
    "import numpy as np"
   ]
  },
  {
   "cell_type": "code",
   "execution_count": 414,
   "metadata": {},
   "outputs": [
    {
     "data": {
      "text/plain": [
       "0       132.045\n",
       "1       131.780\n",
       "2       130.280\n",
       "3       130.535\n",
       "4       129.960\n",
       "         ...   \n",
       "1253    314.960\n",
       "1254    313.140\n",
       "1255    319.230\n",
       "1256    316.850\n",
       "1257    318.890\n",
       "Name: close, Length: 1258, dtype: float64"
      ]
     },
     "execution_count": 414,
     "metadata": {},
     "output_type": "execute_result"
    }
   ],
   "source": [
    "df1"
   ]
  },
  {
   "cell_type": "code",
   "execution_count": 25,
   "metadata": {},
   "outputs": [],
   "source": [
    "from sklearn.preprocessing import MinMaxScaler\n",
    "import numpy as np\n",
    "scaler=MinMaxScaler(feature_range=(0,1))\n",
    "df1=scaler.fit_transform(np.array(df1).reshape(-1, 1))"
   ]
  },
  {
   "cell_type": "code",
   "execution_count": 26,
   "metadata": {},
   "outputs": [
    {
     "name": "stdout",
     "output_type": "stream",
     "text": [
      "[[0.20223268]\n",
      " [0.20283744]\n",
      " [0.1972639 ]\n",
      " ...\n",
      " [0.05302213]\n",
      " [0.05361054]\n",
      " [0.05338171]]\n"
     ]
    }
   ],
   "source": [
    "print(df1)"
   ]
  },
  {
   "cell_type": "markdown",
   "metadata": {},
   "source": [
    "**Theory :** before splitting the data for train and test we should be undertand what type of data we are splitting. \n",
    "Cross validation and random seed can be used for most data except for time series data\n",
    "In our case we have time series data and for example less consider the close value\n",
    "\n",
    "120, 130, 125, 140,134,150,160,190,164 # here day 2 close value 130 wil be dependent on the previous value 120 and similarly day 3 value will depond on day 2 and 1. Hence time series data should be split differently.\n",
    "\n",
    "\n",
    "120, 130, 125, 140,134,150, <-- train  |  test --> 160,190,164\n"
   ]
  },
  {
   "cell_type": "code",
   "execution_count": 27,
   "metadata": {},
   "outputs": [],
   "source": [
    "##splitting dataset into train and test split\n",
    "training_size=int(len(df1)*0.65)\n",
    "test_size=len(df1)-training_size\n",
    "train_data,test_data=df1[0:training_size,:],df1[training_size:len(df1),:1]"
   ]
  },
  {
   "cell_type": "code",
   "execution_count": 28,
   "metadata": {},
   "outputs": [
    {
     "data": {
      "text/plain": [
       "(1787, 963)"
      ]
     },
     "execution_count": 28,
     "metadata": {},
     "output_type": "execute_result"
    }
   ],
   "source": [
    "training_size,test_size"
   ]
  },
  {
   "cell_type": "code",
   "execution_count": 30,
   "metadata": {},
   "outputs": [
    {
     "data": {
      "text/plain": [
       "(1787, 1)"
      ]
     },
     "execution_count": 30,
     "metadata": {},
     "output_type": "execute_result"
    }
   ],
   "source": [
    "train_data.shape"
   ]
  },
  {
   "attachments": {
    "23_Data_Preprocess_steps.PNG": {
     "image/png": "[encoded data removed]"
    }
   },
   "cell_type": "markdown",
   "metadata": {},
   "source": [
    "#### Next step is preprocessing \n",
    "\n",
    "![23_Data_Preprocess_steps.PNG](attachment:23_Data_Preprocess_steps.PNG)\n",
    "\n",
    "As mentioned earlier second day data is dependent on first and third day on 1 and 2. So if we say timestep = 3 then first 3 days data becomes train data and 4th day becomes output. then shift one position 2nd, 3th, 4th as train and 5th as output (y_test)"
   ]
  },
  {
   "cell_type": "code",
   "execution_count": 38,
   "metadata": {},
   "outputs": [],
   "source": [
    "import numpy\n",
    "# convert an array of values into a dataset matrix\n",
    "def create_dataset(dataset, time_step=1):\n",
    "    dataX, dataY = [], []\n",
    "    print(len(dataset))\n",
    "    for i in range(len(dataset)-time_step-1):\n",
    "        a = dataset[i:(i+time_step), 0]   ###i=0, 0,1,2,3-----99   100 \n",
    "        dataX.append(a)\n",
    "        dataY.append(dataset[i + time_step, 0])\n",
    "    return numpy.array(dataX), numpy.array(dataY)"
   ]
  },
  {
   "cell_type": "code",
   "execution_count": 39,
   "metadata": {},
   "outputs": [
    {
     "name": "stdout",
     "output_type": "stream",
     "text": [
      "1787\n",
      "963\n"
     ]
    }
   ],
   "source": [
    "# reshape into X=t,t+1,t+2,t+3 and Y=t+4\n",
    "time_step = 100\n",
    "X_train, y_train = create_dataset(train_data, time_step)\n",
    "X_test, ytest = create_dataset(test_data, time_step)"
   ]
  },
  {
   "cell_type": "code",
   "execution_count": 40,
   "metadata": {},
   "outputs": [
    {
     "name": "stdout",
     "output_type": "stream",
     "text": [
      "(1686, 100)\n",
      "(1686,)\n"
     ]
    },
    {
     "data": {
      "text/plain": [
       "(None, None)"
      ]
     },
     "execution_count": 40,
     "metadata": {},
     "output_type": "execute_result"
    }
   ],
   "source": [
    "print(X_train.shape), print(y_train.shape)"
   ]
  },
  {
   "cell_type": "code",
   "execution_count": 41,
   "metadata": {},
   "outputs": [
    {
     "name": "stdout",
     "output_type": "stream",
     "text": [
      "(862, 100)\n",
      "(862,)\n"
     ]
    },
    {
     "data": {
      "text/plain": [
       "(None, None)"
      ]
     },
     "execution_count": 41,
     "metadata": {},
     "output_type": "execute_result"
    }
   ],
   "source": [
    "print(X_test.shape), print(ytest.shape)"
   ]
  },
  {
   "cell_type": "code",
   "execution_count": 42,
   "metadata": {},
   "outputs": [],
   "source": [
    "# reshape input to be [samples, time steps, features] which is required for LSTM\n",
    "X_train =X_train.reshape(X_train.shape[0],X_train.shape[1] , 1)\n",
    "X_test = X_test.reshape(X_test.shape[0],X_test.shape[1] , 1)"
   ]
  },
  {
   "cell_type": "code",
   "execution_count": 43,
   "metadata": {},
   "outputs": [],
   "source": [
    "### Create the Stacked LSTM model\n",
    "from tensorflow.keras.models import Sequential\n",
    "from tensorflow.keras.layers import Dense\n",
    "from tensorflow.keras.layers import LSTM"
   ]
  },
  {
   "cell_type": "code",
   "execution_count": 44,
   "metadata": {},
   "outputs": [],
   "source": [
    "model=Sequential()\n",
    "model.add(LSTM(50,return_sequences=True,input_shape=(100,1)))\n",
    "model.add(LSTM(50,return_sequences=True))\n",
    "model.add(LSTM(50))\n",
    "model.add(Dense(1))\n",
    "model.compile(loss='mean_squared_error',optimizer='adam')\n"
   ]
  },
  {
   "cell_type": "code",
   "execution_count": 47,
   "metadata": {},
   "outputs": [
    {
     "name": "stdout",
     "output_type": "stream",
     "text": [
      "Model: \"sequential\"\n",
      "_________________________________________________________________\n",
      "Layer (type)                 Output Shape              Param #   \n",
      "=================================================================\n",
      "lstm (LSTM)                  (None, 100, 50)           10400     \n",
      "_________________________________________________________________\n",
      "lstm_1 (LSTM)                (None, 100, 50)           20200     \n",
      "_________________________________________________________________\n",
      "lstm_2 (LSTM)                (None, 50)                20200     \n",
      "_________________________________________________________________\n",
      "dense (Dense)                (None, 1)                 51        \n",
      "=================================================================\n",
      "Total params: 50,851\n",
      "Trainable params: 50,851\n",
      "Non-trainable params: 0\n",
      "_________________________________________________________________\n"
     ]
    }
   ],
   "source": [
    "model.summary()"
   ]
  },
  {
   "cell_type": "code",
   "execution_count": 48,
   "metadata": {},
   "outputs": [
    {
     "name": "stdout",
     "output_type": "stream",
     "text": [
      "Epoch 1/100\n",
      "27/27 [==============================] - 5s 202ms/step - loss: 0.0420 - val_loss: 0.0055\n",
      "Epoch 2/100\n",
      "27/27 [==============================] - 4s 154ms/step - loss: 0.0057 - val_loss: 0.0044\n",
      "Epoch 3/100\n",
      "27/27 [==============================] - 4s 154ms/step - loss: 0.0048 - val_loss: 0.0040\n",
      "Epoch 4/100\n",
      "27/27 [==============================] - 4s 156ms/step - loss: 0.0046 - val_loss: 0.0037\n",
      "Epoch 5/100\n",
      "27/27 [==============================] - 4s 157ms/step - loss: 0.0043 - val_loss: 0.0038\n",
      "Epoch 6/100\n",
      "27/27 [==============================] - 4s 157ms/step - loss: 0.0042 - val_loss: 0.0031\n",
      "Epoch 7/100\n",
      "27/27 [==============================] - 4s 159ms/step - loss: 0.0037 - val_loss: 0.0034\n",
      "Epoch 8/100\n",
      "27/27 [==============================] - 4s 161ms/step - loss: 0.0036 - val_loss: 0.0034\n",
      "Epoch 9/100\n",
      "27/27 [==============================] - 4s 159ms/step - loss: 0.0033 - val_loss: 0.0026\n",
      "Epoch 10/100\n",
      "27/27 [==============================] - 4s 160ms/step - loss: 0.0029 - val_loss: 0.0026\n",
      "Epoch 11/100\n",
      "27/27 [==============================] - 4s 154ms/step - loss: 0.0031 - val_loss: 0.0023\n",
      "Epoch 12/100\n",
      "27/27 [==============================] - 4s 156ms/step - loss: 0.0027 - val_loss: 0.0022\n",
      "Epoch 13/100\n",
      "27/27 [==============================] - 4s 160ms/step - loss: 0.0029 - val_loss: 0.0025\n",
      "Epoch 14/100\n",
      "27/27 [==============================] - 4s 157ms/step - loss: 0.0025 - val_loss: 0.0026\n",
      "Epoch 15/100\n",
      "27/27 [==============================] - 5s 172ms/step - loss: 0.0025 - val_loss: 0.0020\n",
      "Epoch 16/100\n",
      "27/27 [==============================] - 4s 158ms/step - loss: 0.0022 - val_loss: 0.0018\n",
      "Epoch 17/100\n",
      "27/27 [==============================] - 4s 158ms/step - loss: 0.0021 - val_loss: 0.0017\n",
      "Epoch 18/100\n",
      "27/27 [==============================] - 4s 157ms/step - loss: 0.0021 - val_loss: 0.0018\n",
      "Epoch 19/100\n",
      "27/27 [==============================] - 4s 160ms/step - loss: 0.0020 - val_loss: 0.0017\n",
      "Epoch 20/100\n",
      "27/27 [==============================] - 4s 161ms/step - loss: 0.0021 - val_loss: 0.0017\n",
      "Epoch 21/100\n",
      "27/27 [==============================] - 4s 161ms/step - loss: 0.0017 - val_loss: 0.0016\n",
      "Epoch 22/100\n",
      "27/27 [==============================] - 4s 165ms/step - loss: 0.0019 - val_loss: 0.0015\n",
      "Epoch 23/100\n",
      "27/27 [==============================] - 4s 165ms/step - loss: 0.0016 - val_loss: 0.0014\n",
      "Epoch 24/100\n",
      "27/27 [==============================] - 4s 160ms/step - loss: 0.0018 - val_loss: 0.0016\n",
      "Epoch 25/100\n",
      "27/27 [==============================] - 4s 163ms/step - loss: 0.0015 - val_loss: 0.0015\n",
      "Epoch 26/100\n",
      "27/27 [==============================] - 4s 165ms/step - loss: 0.0025 - val_loss: 0.0015\n",
      "Epoch 27/100\n",
      "27/27 [==============================] - 5s 171ms/step - loss: 0.0020 - val_loss: 0.0015\n",
      "Epoch 28/100\n",
      "27/27 [==============================] - 5s 168ms/step - loss: 0.0016 - val_loss: 0.0014\n",
      "Epoch 29/100\n",
      "27/27 [==============================] - 5s 181ms/step - loss: 0.0013 - val_loss: 0.0012\n",
      "Epoch 30/100\n",
      "27/27 [==============================] - 5s 179ms/step - loss: 0.0012 - val_loss: 0.0011\n",
      "Epoch 31/100\n",
      "27/27 [==============================] - 5s 179ms/step - loss: 0.0012 - val_loss: 0.0011\n",
      "Epoch 32/100\n",
      "27/27 [==============================] - 5s 176ms/step - loss: 0.0012 - val_loss: 0.0013\n",
      "Epoch 33/100\n",
      "27/27 [==============================] - 5s 177ms/step - loss: 0.0012 - val_loss: 9.9454e-04\n",
      "Epoch 34/100\n",
      "27/27 [==============================] - 5s 179ms/step - loss: 0.0011 - val_loss: 9.6639e-04\n",
      "Epoch 35/100\n",
      "27/27 [==============================] - 5s 175ms/step - loss: 0.0012 - val_loss: 0.0010\n",
      "Epoch 36/100\n",
      "27/27 [==============================] - 5s 173ms/step - loss: 0.0012 - val_loss: 0.0010\n",
      "Epoch 37/100\n",
      "27/27 [==============================] - 5s 177ms/step - loss: 0.0012 - val_loss: 9.9778e-04\n",
      "Epoch 38/100\n",
      "27/27 [==============================] - 5s 175ms/step - loss: 0.0010 - val_loss: 9.2794e-04\n",
      "Epoch 39/100\n",
      "27/27 [==============================] - 5s 176ms/step - loss: 0.0012 - val_loss: 9.0518e-04\n",
      "Epoch 40/100\n",
      "27/27 [==============================] - 5s 172ms/step - loss: 0.0010 - val_loss: 8.9140e-04\n",
      "Epoch 41/100\n",
      "27/27 [==============================] - 5s 176ms/step - loss: 8.9854e-04 - val_loss: 0.0011\n",
      "Epoch 42/100\n",
      "27/27 [==============================] - 5s 180ms/step - loss: 0.0019 - val_loss: 8.9619e-04\n",
      "Epoch 43/100\n",
      "27/27 [==============================] - 5s 180ms/step - loss: 9.8932e-04 - val_loss: 8.8441e-04\n",
      "Epoch 44/100\n",
      "27/27 [==============================] - 5s 173ms/step - loss: 8.7611e-04 - val_loss: 9.0592e-04\n",
      "Epoch 45/100\n",
      "27/27 [==============================] - 5s 195ms/step - loss: 8.7951e-04 - val_loss: 8.1169e-04\n",
      "Epoch 46/100\n",
      "27/27 [==============================] - 5s 192ms/step - loss: 8.9282e-04 - val_loss: 7.9796e-04\n",
      "Epoch 47/100\n",
      "27/27 [==============================] - 5s 179ms/step - loss: 9.8881e-04 - val_loss: 7.8981e-04\n",
      "Epoch 48/100\n",
      "27/27 [==============================] - 5s 181ms/step - loss: 9.2221e-04 - val_loss: 7.7013e-04\n",
      "Epoch 49/100\n",
      "27/27 [==============================] - 5s 182ms/step - loss: 8.4280e-04 - val_loss: 7.5634e-04\n",
      "Epoch 50/100\n",
      "27/27 [==============================] - 5s 183ms/step - loss: 9.2704e-04 - val_loss: 9.1847e-04\n",
      "Epoch 51/100\n",
      "27/27 [==============================] - 5s 184ms/step - loss: 9.6668e-04 - val_loss: 7.2664e-04\n",
      "Epoch 52/100\n",
      "27/27 [==============================] - 5s 186ms/step - loss: 8.1343e-04 - val_loss: 7.4101e-04\n",
      "Epoch 53/100\n",
      "27/27 [==============================] - 5s 189ms/step - loss: 8.0498e-04 - val_loss: 6.9262e-04\n",
      "Epoch 54/100\n",
      "27/27 [==============================] - 5s 191ms/step - loss: 7.8644e-04 - val_loss: 6.8642e-04\n",
      "Epoch 55/100\n",
      "27/27 [==============================] - 5s 179ms/step - loss: 8.0243e-04 - val_loss: 6.9244e-04\n",
      "Epoch 56/100\n",
      "27/27 [==============================] - 5s 176ms/step - loss: 7.2796e-04 - val_loss: 6.6502e-04\n",
      "Epoch 57/100\n",
      "27/27 [==============================] - 5s 179ms/step - loss: 7.2673e-04 - val_loss: 7.2127e-04\n",
      "Epoch 58/100\n",
      "27/27 [==============================] - 5s 173ms/step - loss: 7.5444e-04 - val_loss: 6.4818e-04\n",
      "Epoch 59/100\n",
      "27/27 [==============================] - 5s 180ms/step - loss: 7.6421e-04 - val_loss: 6.4793e-04\n",
      "Epoch 60/100\n",
      "27/27 [==============================] - 5s 175ms/step - loss: 7.6914e-04 - val_loss: 6.6297e-04\n",
      "Epoch 61/100\n",
      "27/27 [==============================] - 5s 177ms/step - loss: 7.7961e-04 - val_loss: 6.2050e-04\n",
      "Epoch 62/100\n",
      "27/27 [==============================] - 5s 177ms/step - loss: 7.7778e-04 - val_loss: 6.8945e-04\n",
      "Epoch 63/100\n",
      "27/27 [==============================] - 5s 178ms/step - loss: 7.1674e-04 - val_loss: 6.6465e-04\n",
      "Epoch 64/100\n",
      "27/27 [==============================] - 5s 177ms/step - loss: 7.1619e-04 - val_loss: 6.0832e-04\n",
      "Epoch 65/100\n",
      "27/27 [==============================] - 5s 188ms/step - loss: 8.1420e-04 - val_loss: 6.8360e-04\n",
      "Epoch 66/100\n",
      "27/27 [==============================] - 5s 184ms/step - loss: 7.0940e-04 - val_loss: 6.3770e-04\n",
      "Epoch 67/100\n",
      "27/27 [==============================] - 5s 178ms/step - loss: 7.3199e-04 - val_loss: 6.0426e-04\n",
      "Epoch 68/100\n",
      "27/27 [==============================] - 5s 174ms/step - loss: 7.8512e-04 - val_loss: 6.1576e-04\n",
      "Epoch 69/100\n",
      "27/27 [==============================] - 5s 170ms/step - loss: 9.1819e-04 - val_loss: 6.4886e-04\n",
      "Epoch 70/100\n",
      "27/27 [==============================] - 5s 179ms/step - loss: 7.1635e-04 - val_loss: 6.2651e-04\n",
      "Epoch 71/100\n",
      "27/27 [==============================] - 5s 188ms/step - loss: 7.4524e-04 - val_loss: 6.2695e-04\n",
      "Epoch 72/100\n",
      "27/27 [==============================] - 5s 177ms/step - loss: 7.1125e-04 - val_loss: 6.5296e-04\n",
      "Epoch 73/100\n",
      "27/27 [==============================] - 5s 179ms/step - loss: 7.9992e-04 - val_loss: 6.1260e-04\n",
      "Epoch 74/100\n",
      "27/27 [==============================] - 5s 177ms/step - loss: 7.1137e-04 - val_loss: 6.1808e-04\n",
      "Epoch 75/100\n",
      "27/27 [==============================] - 5s 183ms/step - loss: 6.9692e-04 - val_loss: 5.9919e-04\n",
      "Epoch 76/100\n",
      "27/27 [==============================] - 5s 182ms/step - loss: 7.3772e-04 - val_loss: 6.2125e-04\n",
      "Epoch 77/100\n",
      "27/27 [==============================] - 5s 181ms/step - loss: 7.0413e-04 - val_loss: 6.0250e-04\n",
      "Epoch 78/100\n",
      "27/27 [==============================] - 5s 179ms/step - loss: 6.5072e-04 - val_loss: 5.8433e-04\n",
      "Epoch 79/100\n",
      "27/27 [==============================] - 5s 186ms/step - loss: 7.1658e-04 - val_loss: 5.9932e-04\n",
      "Epoch 80/100\n",
      "27/27 [==============================] - 5s 177ms/step - loss: 6.9147e-04 - val_loss: 5.9126e-04\n",
      "Epoch 81/100\n",
      "27/27 [==============================] - 5s 190ms/step - loss: 6.9924e-04 - val_loss: 6.2581e-04\n",
      "Epoch 82/100\n",
      "27/27 [==============================] - 5s 178ms/step - loss: 6.4276e-04 - val_loss: 5.9571e-04\n",
      "Epoch 83/100\n",
      "27/27 [==============================] - 5s 177ms/step - loss: 7.0420e-04 - val_loss: 5.9645e-04\n",
      "Epoch 84/100\n",
      "27/27 [==============================] - 5s 176ms/step - loss: 6.3478e-04 - val_loss: 5.8052e-04\n",
      "Epoch 85/100\n",
      "27/27 [==============================] - 5s 175ms/step - loss: 6.4727e-04 - val_loss: 5.5971e-04\n",
      "Epoch 86/100\n",
      "27/27 [==============================] - 5s 179ms/step - loss: 6.8353e-04 - val_loss: 5.7965e-04\n",
      "Epoch 87/100\n",
      "27/27 [==============================] - 5s 178ms/step - loss: 6.6057e-04 - val_loss: 5.8145e-04\n",
      "Epoch 88/100\n",
      "27/27 [==============================] - 5s 181ms/step - loss: 7.1617e-04 - val_loss: 5.9782e-04\n",
      "Epoch 89/100\n",
      "27/27 [==============================] - 5s 175ms/step - loss: 7.1416e-04 - val_loss: 6.4808e-04\n",
      "Epoch 90/100\n",
      "27/27 [==============================] - 5s 182ms/step - loss: 7.2222e-04 - val_loss: 5.9142e-04\n",
      "Epoch 91/100\n",
      "27/27 [==============================] - 5s 182ms/step - loss: 7.0028e-04 - val_loss: 6.3850e-04\n",
      "Epoch 92/100\n",
      "27/27 [==============================] - 5s 182ms/step - loss: 7.3585e-04 - val_loss: 5.8922e-04\n",
      "Epoch 93/100\n",
      "27/27 [==============================] - 5s 170ms/step - loss: 7.1748e-04 - val_loss: 6.0036e-04\n",
      "Epoch 94/100\n",
      "27/27 [==============================] - 5s 171ms/step - loss: 7.9187e-04 - val_loss: 6.2541e-04\n",
      "Epoch 95/100\n",
      "27/27 [==============================] - 5s 179ms/step - loss: 7.0091e-04 - val_loss: 6.7874e-04\n",
      "Epoch 96/100\n",
      "27/27 [==============================] - 5s 191ms/step - loss: 7.2157e-04 - val_loss: 5.8948e-04\n",
      "Epoch 97/100\n",
      "27/27 [==============================] - 5s 186ms/step - loss: 6.4230e-04 - val_loss: 6.0094e-04\n",
      "Epoch 98/100\n",
      "27/27 [==============================] - 5s 182ms/step - loss: 6.9041e-04 - val_loss: 5.7238e-04\n",
      "Epoch 99/100\n",
      "27/27 [==============================] - 5s 183ms/step - loss: 6.9500e-04 - val_loss: 5.7086e-04\n",
      "Epoch 100/100\n",
      "27/27 [==============================] - 5s 178ms/step - loss: 7.1684e-04 - val_loss: 5.7625e-04\n"
     ]
    },
    {
     "data": {
      "text/plain": [
       "<tensorflow.python.keras.callbacks.History at 0x1de7f7f02e8>"
      ]
     },
     "execution_count": 48,
     "metadata": {},
     "output_type": "execute_result"
    }
   ],
   "source": [
    "model.fit(X_train,y_train,validation_data=(X_test,ytest),epochs=100,batch_size=64,verbose=1)"
   ]
  },
  {
   "cell_type": "code",
   "execution_count": 49,
   "metadata": {},
   "outputs": [],
   "source": [
    "import tensorflow as tf"
   ]
  },
  {
   "cell_type": "code",
   "execution_count": 50,
   "metadata": {},
   "outputs": [
    {
     "data": {
      "text/plain": [
       "'2.3.1'"
      ]
     },
     "execution_count": 50,
     "metadata": {},
     "output_type": "execute_result"
    }
   ],
   "source": [
    "tf.__version__"
   ]
  },
  {
   "cell_type": "code",
   "execution_count": 51,
   "metadata": {},
   "outputs": [],
   "source": [
    "### Lets Do the prediction and check performance metrics\n",
    "train_predict=model.predict(X_train)\n",
    "test_predict=model.predict(X_test)"
   ]
  },
  {
   "cell_type": "code",
   "execution_count": 52,
   "metadata": {},
   "outputs": [],
   "source": [
    "##Transformback to original form\n",
    "train_predict=scaler.inverse_transform(train_predict)\n",
    "test_predict=scaler.inverse_transform(test_predict)"
   ]
  },
  {
   "cell_type": "code",
   "execution_count": 53,
   "metadata": {},
   "outputs": [
    {
     "data": {
      "text/plain": [
       "361.05300963514145"
      ]
     },
     "execution_count": 53,
     "metadata": {},
     "output_type": "execute_result"
    }
   ],
   "source": [
    "### Calculate RMSE performance metrics\n",
    "import math\n",
    "from sklearn.metrics import mean_squared_error\n",
    "math.sqrt(mean_squared_error(y_train,train_predict))"
   ]
  },
  {
   "cell_type": "code",
   "execution_count": 54,
   "metadata": {},
   "outputs": [
    {
     "data": {
      "text/plain": [
       "222.40519231908974"
      ]
     },
     "execution_count": 54,
     "metadata": {},
     "output_type": "execute_result"
    }
   ],
   "source": [
    "### Test Data RMSE\n",
    "math.sqrt(mean_squared_error(ytest,test_predict))"
   ]
  },
  {
   "cell_type": "code",
   "execution_count": 55,
   "metadata": {},
   "outputs": [
    {
     "data": {
      "image/png": "[encoded data removed]",
      "text/plain": [
       "<Figure size 432x288 with 1 Axes>"
      ]
     },
     "metadata": {
      "needs_background": "light"
     },
     "output_type": "display_data"
    }
   ],
   "source": [
    "### Plotting \n",
    "# shift train predictions for plotting\n",
    "look_back=100\n",
    "trainPredictPlot = numpy.empty_like(df1)\n",
    "trainPredictPlot[:, :] = np.nan\n",
    "trainPredictPlot[look_back:len(train_predict)+look_back, :] = train_predict\n",
    "# shift test predictions for plotting\n",
    "testPredictPlot = numpy.empty_like(df1)\n",
    "testPredictPlot[:, :] = numpy.nan\n",
    "testPredictPlot[len(train_predict)+(look_back*2)+1:len(df1)-1, :] = test_predict\n",
    "# plot baseline and predictions\n",
    "plt.plot(scaler.inverse_transform(df1))\n",
    "plt.plot(trainPredictPlot)\n",
    "plt.plot(testPredictPlot)\n",
    "plt.show()"
   ]
  },
  {
   "cell_type": "code",
   "execution_count": 60,
   "metadata": {},
   "outputs": [
    {
     "data": {
      "text/plain": [
       "963"
      ]
     },
     "execution_count": 60,
     "metadata": {},
     "output_type": "execute_result"
    }
   ],
   "source": [
    "# predict the future 30 days\n",
    "\n",
    "len(test_data)"
   ]
  },
  {
   "cell_type": "code",
   "execution_count": 61,
   "metadata": {},
   "outputs": [
    {
     "data": {
      "text/plain": [
       "(1, 100)"
      ]
     },
     "execution_count": 61,
     "metadata": {},
     "output_type": "execute_result"
    }
   ],
   "source": [
    "x_input=test_data[863:].reshape(1,-1) # 963 - 100 \n",
    "x_input.shape\n"
   ]
  },
  {
   "cell_type": "code",
   "execution_count": 62,
   "metadata": {},
   "outputs": [],
   "source": [
    "temp_input=list(x_input)\n",
    "temp_input=temp_input[0].tolist()"
   ]
  },
  {
   "cell_type": "code",
   "execution_count": 63,
   "metadata": {},
   "outputs": [
    {
     "data": {
      "text/plain": [
       "[0.49135366611094755,\n",
       " 0.4834918766957601,\n",
       " 0.48221699192572975,\n",
       " 0.495488869275277,\n",
       " 0.4866137099146808,\n",
       " 0.48839527965741547,\n",
       " 0.45944885750710995,\n",
       " 0.4579451472655356,\n",
       " 0.47229577326664707,\n",
       " 0.4621130397829426,\n",
       " 0.47379948350822143,\n",
       " 0.4813180347160929,\n",
       " 0.547154391814586,\n",
       " 0.5646595403876957,\n",
       " 0.5694158412605015,\n",
       " 0.5720146448301788,\n",
       " 0.5971200679938544,\n",
       " 0.5788794089764963,\n",
       " 0.5894380700205943,\n",
       " 0.5675198587819946,\n",
       " 0.5912850184694844,\n",
       " 0.6043607597005656,\n",
       " 0.6036906279624726,\n",
       " 0.6017292667778105,\n",
       " 0.6079729332156516,\n",
       " 0.608920924454905,\n",
       " 0.6257069072603053,\n",
       " 0.6655552286620248,\n",
       " 0.6752803112026413,\n",
       " 0.6685299597920957,\n",
       " 0.6796279951619757,\n",
       " 0.6697394658559707,\n",
       " 0.6684155470563238,\n",
       " 0.06335196626458761,\n",
       " 0.07175313000555719,\n",
       " 0.06720930992775653,\n",
       " 0.050014710208884955,\n",
       " 0.05014546762119576,\n",
       " 0.03684090091857081,\n",
       " 0.04419600536105389,\n",
       " 0.03793599424667385,\n",
       " 0.03550063744238502,\n",
       " 0.04098427642116961,\n",
       " 0.041286652937138374,\n",
       " 0.03571311823739007,\n",
       " 0.032787421136935696,\n",
       " 0.027066784348337758,\n",
       " 0.03236245954692557,\n",
       " 0.035190088588146845,\n",
       " 0.027524435291425592,\n",
       " 0.02932234971069922,\n",
       " 0.03595828838547285,\n",
       " 0.04033866169788497,\n",
       " 0.03891667483900493,\n",
       " 0.041727959203687354,\n",
       " 0.043329737504494786,\n",
       " 0.03716779444934784,\n",
       " 0.0428557418848681,\n",
       " 0.037396619920891744,\n",
       " 0.04053479781635119,\n",
       " 0.04035500637442385,\n",
       " 0.043623941682194106,\n",
       " 0.05576803635056063,\n",
       " 0.05037429309273969,\n",
       " 0.05052139518158935,\n",
       " 0.04973685070772449,\n",
       " 0.046974600372658604,\n",
       " 0.04200581870484782,\n",
       " 0.04450655421529209,\n",
       " 0.04346049491680559,\n",
       " 0.041629891144454256,\n",
       " 0.0404694191101958,\n",
       " 0.04048576378673466,\n",
       " 0.043019188650256585,\n",
       " 0.034193063319276906,\n",
       " 0.04092707005328364,\n",
       " 0.030368409009185693,\n",
       " 0.030221306920336033,\n",
       " 0.03295086790232421,\n",
       " 0.040322317021346143,\n",
       " 0.04699094504919746,\n",
       " 0.04643522604687653,\n",
       " 0.04256153770716875,\n",
       " 0.041989474028308965,\n",
       " 0.04774280016998461,\n",
       " 0.04728514922689678,\n",
       " 0.04736687260959105,\n",
       " 0.04906671896963158,\n",
       " 0.047579353404596125,\n",
       " 0.045356477395312345,\n",
       " 0.04635350266418228,\n",
       " 0.0442286947141316,\n",
       " 0.03852440260207249,\n",
       " 0.04068189990520088,\n",
       " 0.04208754208754209,\n",
       " 0.04300284397371776,\n",
       " 0.047023634402275166,\n",
       " 0.0530221306920336,\n",
       " 0.05361053904743224,\n",
       " 0.053381713575888334]"
      ]
     },
     "execution_count": 63,
     "metadata": {},
     "output_type": "execute_result"
    }
   ],
   "source": [
    "temp_input"
   ]
  },
  {
   "cell_type": "code",
   "execution_count": 64,
   "metadata": {},
   "outputs": [
    {
     "name": "stdout",
     "output_type": "stream",
     "text": [
      "[0.04932845]\n",
      "101\n",
      "1 day input [0.48349188 0.48221699 0.49548887 0.48661371 0.48839528 0.45944886\n",
      " 0.45794515 0.47229577 0.46211304 0.47379948 0.48131803 0.54715439\n",
      " 0.56465954 0.56941584 0.57201464 0.59712007 0.57887941 0.58943807\n",
      " 0.56751986 0.59128502 0.60436076 0.60369063 0.60172927 0.60797293\n",
      " 0.60892092 0.62570691 0.66555523 0.67528031 0.66852996 0.679628\n",
      " 0.66973947 0.66841555 0.06335197 0.07175313 0.06720931 0.05001471\n",
      " 0.05014547 0.0368409  0.04419601 0.03793599 0.03550064 0.04098428\n",
      " 0.04128665 0.03571312 0.03278742 0.02706678 0.03236246 0.03519009\n",
      " 0.02752444 0.02932235 0.03595829 0.04033866 0.03891667 0.04172796\n",
      " 0.04332974 0.03716779 0.04285574 0.03739662 0.0405348  0.04035501\n",
      " 0.04362394 0.05576804 0.05037429 0.0505214  0.04973685 0.0469746\n",
      " 0.04200582 0.04450655 0.04346049 0.04162989 0.04046942 0.04048576\n",
      " 0.04301919 0.03419306 0.04092707 0.03036841 0.03022131 0.03295087\n",
      " 0.04032232 0.04699095 0.04643523 0.04256154 0.04198947 0.0477428\n",
      " 0.04728515 0.04736687 0.04906672 0.04757935 0.04535648 0.0463535\n",
      " 0.04422869 0.0385244  0.0406819  0.04208754 0.04300284 0.04702363\n",
      " 0.05302213 0.05361054 0.05338171 0.04932845]\n",
      "1 day output [[0.05064149]]\n",
      "2 day input [0.48221699 0.49548887 0.48661371 0.48839528 0.45944886 0.45794515\n",
      " 0.47229577 0.46211304 0.47379948 0.48131803 0.54715439 0.56465954\n",
      " 0.56941584 0.57201464 0.59712007 0.57887941 0.58943807 0.56751986\n",
      " 0.59128502 0.60436076 0.60369063 0.60172927 0.60797293 0.60892092\n",
      " 0.62570691 0.66555523 0.67528031 0.66852996 0.679628   0.66973947\n",
      " 0.66841555 0.06335197 0.07175313 0.06720931 0.05001471 0.05014547\n",
      " 0.0368409  0.04419601 0.03793599 0.03550064 0.04098428 0.04128665\n",
      " 0.03571312 0.03278742 0.02706678 0.03236246 0.03519009 0.02752444\n",
      " 0.02932235 0.03595829 0.04033866 0.03891667 0.04172796 0.04332974\n",
      " 0.03716779 0.04285574 0.03739662 0.0405348  0.04035501 0.04362394\n",
      " 0.05576804 0.05037429 0.0505214  0.04973685 0.0469746  0.04200582\n",
      " 0.04450655 0.04346049 0.04162989 0.04046942 0.04048576 0.04301919\n",
      " 0.03419306 0.04092707 0.03036841 0.03022131 0.03295087 0.04032232\n",
      " 0.04699095 0.04643523 0.04256154 0.04198947 0.0477428  0.04728515\n",
      " 0.04736687 0.04906672 0.04757935 0.04535648 0.0463535  0.04422869\n",
      " 0.0385244  0.0406819  0.04208754 0.04300284 0.04702363 0.05302213\n",
      " 0.05361054 0.05338171 0.04932845 0.05064149]\n",
      "2 day output [[0.05143947]]\n",
      "3 day input [0.49548887 0.48661371 0.48839528 0.45944886 0.45794515 0.47229577\n",
      " 0.46211304 0.47379948 0.48131803 0.54715439 0.56465954 0.56941584\n",
      " 0.57201464 0.59712007 0.57887941 0.58943807 0.56751986 0.59128502\n",
      " 0.60436076 0.60369063 0.60172927 0.60797293 0.60892092 0.62570691\n",
      " 0.66555523 0.67528031 0.66852996 0.679628   0.66973947 0.66841555\n",
      " 0.06335197 0.07175313 0.06720931 0.05001471 0.05014547 0.0368409\n",
      " 0.04419601 0.03793599 0.03550064 0.04098428 0.04128665 0.03571312\n",
      " 0.03278742 0.02706678 0.03236246 0.03519009 0.02752444 0.02932235\n",
      " 0.03595829 0.04033866 0.03891667 0.04172796 0.04332974 0.03716779\n",
      " 0.04285574 0.03739662 0.0405348  0.04035501 0.04362394 0.05576804\n",
      " 0.05037429 0.0505214  0.04973685 0.0469746  0.04200582 0.04450655\n",
      " 0.04346049 0.04162989 0.04046942 0.04048576 0.04301919 0.03419306\n",
      " 0.04092707 0.03036841 0.03022131 0.03295087 0.04032232 0.04699095\n",
      " 0.04643523 0.04256154 0.04198947 0.0477428  0.04728515 0.04736687\n",
      " 0.04906672 0.04757935 0.04535648 0.0463535  0.04422869 0.0385244\n",
      " 0.0406819  0.04208754 0.04300284 0.04702363 0.05302213 0.05361054\n",
      " 0.05338171 0.04932845 0.05064149 0.05143947]\n",
      "3 day output [[0.0519211]]\n",
      "4 day input [0.48661371 0.48839528 0.45944886 0.45794515 0.47229577 0.46211304\n",
      " 0.47379948 0.48131803 0.54715439 0.56465954 0.56941584 0.57201464\n",
      " 0.59712007 0.57887941 0.58943807 0.56751986 0.59128502 0.60436076\n",
      " 0.60369063 0.60172927 0.60797293 0.60892092 0.62570691 0.66555523\n",
      " 0.67528031 0.66852996 0.679628   0.66973947 0.66841555 0.06335197\n",
      " 0.07175313 0.06720931 0.05001471 0.05014547 0.0368409  0.04419601\n",
      " 0.03793599 0.03550064 0.04098428 0.04128665 0.03571312 0.03278742\n",
      " 0.02706678 0.03236246 0.03519009 0.02752444 0.02932235 0.03595829\n",
      " 0.04033866 0.03891667 0.04172796 0.04332974 0.03716779 0.04285574\n",
      " 0.03739662 0.0405348  0.04035501 0.04362394 0.05576804 0.05037429\n",
      " 0.0505214  0.04973685 0.0469746  0.04200582 0.04450655 0.04346049\n",
      " 0.04162989 0.04046942 0.04048576 0.04301919 0.03419306 0.04092707\n",
      " 0.03036841 0.03022131 0.03295087 0.04032232 0.04699095 0.04643523\n",
      " 0.04256154 0.04198947 0.0477428  0.04728515 0.04736687 0.04906672\n",
      " 0.04757935 0.04535648 0.0463535  0.04422869 0.0385244  0.0406819\n",
      " 0.04208754 0.04300284 0.04702363 0.05302213 0.05361054 0.05338171\n",
      " 0.04932845 0.05064149 0.05143947 0.0519211 ]\n",
      "4 day output [[0.05225042]]\n",
      "5 day input [0.48839528 0.45944886 0.45794515 0.47229577 0.46211304 0.47379948\n",
      " 0.48131803 0.54715439 0.56465954 0.56941584 0.57201464 0.59712007\n",
      " 0.57887941 0.58943807 0.56751986 0.59128502 0.60436076 0.60369063\n",
      " 0.60172927 0.60797293 0.60892092 0.62570691 0.66555523 0.67528031\n",
      " 0.66852996 0.679628   0.66973947 0.66841555 0.06335197 0.07175313\n",
      " 0.06720931 0.05001471 0.05014547 0.0368409  0.04419601 0.03793599\n",
      " 0.03550064 0.04098428 0.04128665 0.03571312 0.03278742 0.02706678\n",
      " 0.03236246 0.03519009 0.02752444 0.02932235 0.03595829 0.04033866\n",
      " 0.03891667 0.04172796 0.04332974 0.03716779 0.04285574 0.03739662\n",
      " 0.0405348  0.04035501 0.04362394 0.05576804 0.05037429 0.0505214\n",
      " 0.04973685 0.0469746  0.04200582 0.04450655 0.04346049 0.04162989\n",
      " 0.04046942 0.04048576 0.04301919 0.03419306 0.04092707 0.03036841\n",
      " 0.03022131 0.03295087 0.04032232 0.04699095 0.04643523 0.04256154\n",
      " 0.04198947 0.0477428  0.04728515 0.04736687 0.04906672 0.04757935\n",
      " 0.04535648 0.0463535  0.04422869 0.0385244  0.0406819  0.04208754\n",
      " 0.04300284 0.04702363 0.05302213 0.05361054 0.05338171 0.04932845\n",
      " 0.05064149 0.05143947 0.0519211  0.05225042]\n",
      "5 day output [[0.05252303]]\n",
      "6 day input [0.45944886 0.45794515 0.47229577 0.46211304 0.47379948 0.48131803\n",
      " 0.54715439 0.56465954 0.56941584 0.57201464 0.59712007 0.57887941\n",
      " 0.58943807 0.56751986 0.59128502 0.60436076 0.60369063 0.60172927\n",
      " 0.60797293 0.60892092 0.62570691 0.66555523 0.67528031 0.66852996\n",
      " 0.679628   0.66973947 0.66841555 0.06335197 0.07175313 0.06720931\n",
      " 0.05001471 0.05014547 0.0368409  0.04419601 0.03793599 0.03550064\n",
      " 0.04098428 0.04128665 0.03571312 0.03278742 0.02706678 0.03236246\n",
      " 0.03519009 0.02752444 0.02932235 0.03595829 0.04033866 0.03891667\n",
      " 0.04172796 0.04332974 0.03716779 0.04285574 0.03739662 0.0405348\n",
      " 0.04035501 0.04362394 0.05576804 0.05037429 0.0505214  0.04973685\n",
      " 0.0469746  0.04200582 0.04450655 0.04346049 0.04162989 0.04046942\n",
      " 0.04048576 0.04301919 0.03419306 0.04092707 0.03036841 0.03022131\n",
      " 0.03295087 0.04032232 0.04699095 0.04643523 0.04256154 0.04198947\n",
      " 0.0477428  0.04728515 0.04736687 0.04906672 0.04757935 0.04535648\n",
      " 0.0463535  0.04422869 0.0385244  0.0406819  0.04208754 0.04300284\n",
      " 0.04702363 0.05302213 0.05361054 0.05338171 0.04932845 0.05064149\n",
      " 0.05143947 0.0519211  0.05225042 0.05252303]\n",
      "6 day output [[0.05278342]]\n",
      "7 day input [0.45794515 0.47229577 0.46211304 0.47379948 0.48131803 0.54715439\n",
      " 0.56465954 0.56941584 0.57201464 0.59712007 0.57887941 0.58943807\n",
      " 0.56751986 0.59128502 0.60436076 0.60369063 0.60172927 0.60797293\n",
      " 0.60892092 0.62570691 0.66555523 0.67528031 0.66852996 0.679628\n",
      " 0.66973947 0.66841555 0.06335197 0.07175313 0.06720931 0.05001471\n",
      " 0.05014547 0.0368409  0.04419601 0.03793599 0.03550064 0.04098428\n",
      " 0.04128665 0.03571312 0.03278742 0.02706678 0.03236246 0.03519009\n",
      " 0.02752444 0.02932235 0.03595829 0.04033866 0.03891667 0.04172796\n",
      " 0.04332974 0.03716779 0.04285574 0.03739662 0.0405348  0.04035501\n",
      " 0.04362394 0.05576804 0.05037429 0.0505214  0.04973685 0.0469746\n",
      " 0.04200582 0.04450655 0.04346049 0.04162989 0.04046942 0.04048576\n",
      " 0.04301919 0.03419306 0.04092707 0.03036841 0.03022131 0.03295087\n",
      " 0.04032232 0.04699095 0.04643523 0.04256154 0.04198947 0.0477428\n",
      " 0.04728515 0.04736687 0.04906672 0.04757935 0.04535648 0.0463535\n",
      " 0.04422869 0.0385244  0.0406819  0.04208754 0.04300284 0.04702363\n",
      " 0.05302213 0.05361054 0.05338171 0.04932845 0.05064149 0.05143947\n",
      " 0.0519211  0.05225042 0.05252303 0.05278342]\n",
      "7 day output [[0.05304794]]\n",
      "8 day input [0.47229577 0.46211304 0.47379948 0.48131803 0.54715439 0.56465954\n",
      " 0.56941584 0.57201464 0.59712007 0.57887941 0.58943807 0.56751986\n",
      " 0.59128502 0.60436076 0.60369063 0.60172927 0.60797293 0.60892092\n",
      " 0.62570691 0.66555523 0.67528031 0.66852996 0.679628   0.66973947\n",
      " 0.66841555 0.06335197 0.07175313 0.06720931 0.05001471 0.05014547\n",
      " 0.0368409  0.04419601 0.03793599 0.03550064 0.04098428 0.04128665\n",
      " 0.03571312 0.03278742 0.02706678 0.03236246 0.03519009 0.02752444\n",
      " 0.02932235 0.03595829 0.04033866 0.03891667 0.04172796 0.04332974\n",
      " 0.03716779 0.04285574 0.03739662 0.0405348  0.04035501 0.04362394\n",
      " 0.05576804 0.05037429 0.0505214  0.04973685 0.0469746  0.04200582\n",
      " 0.04450655 0.04346049 0.04162989 0.04046942 0.04048576 0.04301919\n",
      " 0.03419306 0.04092707 0.03036841 0.03022131 0.03295087 0.04032232\n",
      " 0.04699095 0.04643523 0.04256154 0.04198947 0.0477428  0.04728515\n",
      " 0.04736687 0.04906672 0.04757935 0.04535648 0.0463535  0.04422869\n",
      " 0.0385244  0.0406819  0.04208754 0.04300284 0.04702363 0.05302213\n",
      " 0.05361054 0.05338171 0.04932845 0.05064149 0.05143947 0.0519211\n",
      " 0.05225042 0.05252303 0.05278342 0.05304794]\n"
     ]
    },
    {
     "name": "stdout",
     "output_type": "stream",
     "text": [
      "8 day output [[0.05332031]]\n",
      "9 day input [0.46211304 0.47379948 0.48131803 0.54715439 0.56465954 0.56941584\n",
      " 0.57201464 0.59712007 0.57887941 0.58943807 0.56751986 0.59128502\n",
      " 0.60436076 0.60369063 0.60172927 0.60797293 0.60892092 0.62570691\n",
      " 0.66555523 0.67528031 0.66852996 0.679628   0.66973947 0.66841555\n",
      " 0.06335197 0.07175313 0.06720931 0.05001471 0.05014547 0.0368409\n",
      " 0.04419601 0.03793599 0.03550064 0.04098428 0.04128665 0.03571312\n",
      " 0.03278742 0.02706678 0.03236246 0.03519009 0.02752444 0.02932235\n",
      " 0.03595829 0.04033866 0.03891667 0.04172796 0.04332974 0.03716779\n",
      " 0.04285574 0.03739662 0.0405348  0.04035501 0.04362394 0.05576804\n",
      " 0.05037429 0.0505214  0.04973685 0.0469746  0.04200582 0.04450655\n",
      " 0.04346049 0.04162989 0.04046942 0.04048576 0.04301919 0.03419306\n",
      " 0.04092707 0.03036841 0.03022131 0.03295087 0.04032232 0.04699095\n",
      " 0.04643523 0.04256154 0.04198947 0.0477428  0.04728515 0.04736687\n",
      " 0.04906672 0.04757935 0.04535648 0.0463535  0.04422869 0.0385244\n",
      " 0.0406819  0.04208754 0.04300284 0.04702363 0.05302213 0.05361054\n",
      " 0.05338171 0.04932845 0.05064149 0.05143947 0.0519211  0.05225042\n",
      " 0.05252303 0.05278342 0.05304794 0.05332031]\n",
      "9 day output [[0.05359983]]\n",
      "10 day input [0.47379948 0.48131803 0.54715439 0.56465954 0.56941584 0.57201464\n",
      " 0.59712007 0.57887941 0.58943807 0.56751986 0.59128502 0.60436076\n",
      " 0.60369063 0.60172927 0.60797293 0.60892092 0.62570691 0.66555523\n",
      " 0.67528031 0.66852996 0.679628   0.66973947 0.66841555 0.06335197\n",
      " 0.07175313 0.06720931 0.05001471 0.05014547 0.0368409  0.04419601\n",
      " 0.03793599 0.03550064 0.04098428 0.04128665 0.03571312 0.03278742\n",
      " 0.02706678 0.03236246 0.03519009 0.02752444 0.02932235 0.03595829\n",
      " 0.04033866 0.03891667 0.04172796 0.04332974 0.03716779 0.04285574\n",
      " 0.03739662 0.0405348  0.04035501 0.04362394 0.05576804 0.05037429\n",
      " 0.0505214  0.04973685 0.0469746  0.04200582 0.04450655 0.04346049\n",
      " 0.04162989 0.04046942 0.04048576 0.04301919 0.03419306 0.04092707\n",
      " 0.03036841 0.03022131 0.03295087 0.04032232 0.04699095 0.04643523\n",
      " 0.04256154 0.04198947 0.0477428  0.04728515 0.04736687 0.04906672\n",
      " 0.04757935 0.04535648 0.0463535  0.04422869 0.0385244  0.0406819\n",
      " 0.04208754 0.04300284 0.04702363 0.05302213 0.05361054 0.05338171\n",
      " 0.04932845 0.05064149 0.05143947 0.0519211  0.05225042 0.05252303\n",
      " 0.05278342 0.05304794 0.05332031 0.05359983]\n",
      "10 day output [[0.05388477]]\n",
      "11 day input [0.48131803 0.54715439 0.56465954 0.56941584 0.57201464 0.59712007\n",
      " 0.57887941 0.58943807 0.56751986 0.59128502 0.60436076 0.60369063\n",
      " 0.60172927 0.60797293 0.60892092 0.62570691 0.66555523 0.67528031\n",
      " 0.66852996 0.679628   0.66973947 0.66841555 0.06335197 0.07175313\n",
      " 0.06720931 0.05001471 0.05014547 0.0368409  0.04419601 0.03793599\n",
      " 0.03550064 0.04098428 0.04128665 0.03571312 0.03278742 0.02706678\n",
      " 0.03236246 0.03519009 0.02752444 0.02932235 0.03595829 0.04033866\n",
      " 0.03891667 0.04172796 0.04332974 0.03716779 0.04285574 0.03739662\n",
      " 0.0405348  0.04035501 0.04362394 0.05576804 0.05037429 0.0505214\n",
      " 0.04973685 0.0469746  0.04200582 0.04450655 0.04346049 0.04162989\n",
      " 0.04046942 0.04048576 0.04301919 0.03419306 0.04092707 0.03036841\n",
      " 0.03022131 0.03295087 0.04032232 0.04699095 0.04643523 0.04256154\n",
      " 0.04198947 0.0477428  0.04728515 0.04736687 0.04906672 0.04757935\n",
      " 0.04535648 0.0463535  0.04422869 0.0385244  0.0406819  0.04208754\n",
      " 0.04300284 0.04702363 0.05302213 0.05361054 0.05338171 0.04932845\n",
      " 0.05064149 0.05143947 0.0519211  0.05225042 0.05252303 0.05278342\n",
      " 0.05304794 0.05332031 0.05359983 0.05388477]\n",
      "11 day output [[0.05417352]]\n",
      "12 day input [0.54715439 0.56465954 0.56941584 0.57201464 0.59712007 0.57887941\n",
      " 0.58943807 0.56751986 0.59128502 0.60436076 0.60369063 0.60172927\n",
      " 0.60797293 0.60892092 0.62570691 0.66555523 0.67528031 0.66852996\n",
      " 0.679628   0.66973947 0.66841555 0.06335197 0.07175313 0.06720931\n",
      " 0.05001471 0.05014547 0.0368409  0.04419601 0.03793599 0.03550064\n",
      " 0.04098428 0.04128665 0.03571312 0.03278742 0.02706678 0.03236246\n",
      " 0.03519009 0.02752444 0.02932235 0.03595829 0.04033866 0.03891667\n",
      " 0.04172796 0.04332974 0.03716779 0.04285574 0.03739662 0.0405348\n",
      " 0.04035501 0.04362394 0.05576804 0.05037429 0.0505214  0.04973685\n",
      " 0.0469746  0.04200582 0.04450655 0.04346049 0.04162989 0.04046942\n",
      " 0.04048576 0.04301919 0.03419306 0.04092707 0.03036841 0.03022131\n",
      " 0.03295087 0.04032232 0.04699095 0.04643523 0.04256154 0.04198947\n",
      " 0.0477428  0.04728515 0.04736687 0.04906672 0.04757935 0.04535648\n",
      " 0.0463535  0.04422869 0.0385244  0.0406819  0.04208754 0.04300284\n",
      " 0.04702363 0.05302213 0.05361054 0.05338171 0.04932845 0.05064149\n",
      " 0.05143947 0.0519211  0.05225042 0.05252303 0.05278342 0.05304794\n",
      " 0.05332031 0.05359983 0.05388477 0.05417352]\n",
      "12 day output [[0.05446482]]\n",
      "13 day input [0.56465954 0.56941584 0.57201464 0.59712007 0.57887941 0.58943807\n",
      " 0.56751986 0.59128502 0.60436076 0.60369063 0.60172927 0.60797293\n",
      " 0.60892092 0.62570691 0.66555523 0.67528031 0.66852996 0.679628\n",
      " 0.66973947 0.66841555 0.06335197 0.07175313 0.06720931 0.05001471\n",
      " 0.05014547 0.0368409  0.04419601 0.03793599 0.03550064 0.04098428\n",
      " 0.04128665 0.03571312 0.03278742 0.02706678 0.03236246 0.03519009\n",
      " 0.02752444 0.02932235 0.03595829 0.04033866 0.03891667 0.04172796\n",
      " 0.04332974 0.03716779 0.04285574 0.03739662 0.0405348  0.04035501\n",
      " 0.04362394 0.05576804 0.05037429 0.0505214  0.04973685 0.0469746\n",
      " 0.04200582 0.04450655 0.04346049 0.04162989 0.04046942 0.04048576\n",
      " 0.04301919 0.03419306 0.04092707 0.03036841 0.03022131 0.03295087\n",
      " 0.04032232 0.04699095 0.04643523 0.04256154 0.04198947 0.0477428\n",
      " 0.04728515 0.04736687 0.04906672 0.04757935 0.04535648 0.0463535\n",
      " 0.04422869 0.0385244  0.0406819  0.04208754 0.04300284 0.04702363\n",
      " 0.05302213 0.05361054 0.05338171 0.04932845 0.05064149 0.05143947\n",
      " 0.0519211  0.05225042 0.05252303 0.05278342 0.05304794 0.05332031\n",
      " 0.05359983 0.05388477 0.05417352 0.05446482]\n",
      "13 day output [[0.05475765]]\n",
      "14 day input [0.56941584 0.57201464 0.59712007 0.57887941 0.58943807 0.56751986\n",
      " 0.59128502 0.60436076 0.60369063 0.60172927 0.60797293 0.60892092\n",
      " 0.62570691 0.66555523 0.67528031 0.66852996 0.679628   0.66973947\n",
      " 0.66841555 0.06335197 0.07175313 0.06720931 0.05001471 0.05014547\n",
      " 0.0368409  0.04419601 0.03793599 0.03550064 0.04098428 0.04128665\n",
      " 0.03571312 0.03278742 0.02706678 0.03236246 0.03519009 0.02752444\n",
      " 0.02932235 0.03595829 0.04033866 0.03891667 0.04172796 0.04332974\n",
      " 0.03716779 0.04285574 0.03739662 0.0405348  0.04035501 0.04362394\n",
      " 0.05576804 0.05037429 0.0505214  0.04973685 0.0469746  0.04200582\n",
      " 0.04450655 0.04346049 0.04162989 0.04046942 0.04048576 0.04301919\n",
      " 0.03419306 0.04092707 0.03036841 0.03022131 0.03295087 0.04032232\n",
      " 0.04699095 0.04643523 0.04256154 0.04198947 0.0477428  0.04728515\n",
      " 0.04736687 0.04906672 0.04757935 0.04535648 0.0463535  0.04422869\n",
      " 0.0385244  0.0406819  0.04208754 0.04300284 0.04702363 0.05302213\n",
      " 0.05361054 0.05338171 0.04932845 0.05064149 0.05143947 0.0519211\n",
      " 0.05225042 0.05252303 0.05278342 0.05304794 0.05332031 0.05359983\n",
      " 0.05388477 0.05417352 0.05446482 0.05475765]\n",
      "14 day output [[0.05505117]]\n",
      "15 day input [0.57201464 0.59712007 0.57887941 0.58943807 0.56751986 0.59128502\n",
      " 0.60436076 0.60369063 0.60172927 0.60797293 0.60892092 0.62570691\n",
      " 0.66555523 0.67528031 0.66852996 0.679628   0.66973947 0.66841555\n",
      " 0.06335197 0.07175313 0.06720931 0.05001471 0.05014547 0.0368409\n",
      " 0.04419601 0.03793599 0.03550064 0.04098428 0.04128665 0.03571312\n",
      " 0.03278742 0.02706678 0.03236246 0.03519009 0.02752444 0.02932235\n",
      " 0.03595829 0.04033866 0.03891667 0.04172796 0.04332974 0.03716779\n",
      " 0.04285574 0.03739662 0.0405348  0.04035501 0.04362394 0.05576804\n",
      " 0.05037429 0.0505214  0.04973685 0.0469746  0.04200582 0.04450655\n",
      " 0.04346049 0.04162989 0.04046942 0.04048576 0.04301919 0.03419306\n",
      " 0.04092707 0.03036841 0.03022131 0.03295087 0.04032232 0.04699095\n",
      " 0.04643523 0.04256154 0.04198947 0.0477428  0.04728515 0.04736687\n",
      " 0.04906672 0.04757935 0.04535648 0.0463535  0.04422869 0.0385244\n",
      " 0.0406819  0.04208754 0.04300284 0.04702363 0.05302213 0.05361054\n",
      " 0.05338171 0.04932845 0.05064149 0.05143947 0.0519211  0.05225042\n",
      " 0.05252303 0.05278342 0.05304794 0.05332031 0.05359983 0.05388477\n",
      " 0.05417352 0.05446482 0.05475765 0.05505117]\n",
      "15 day output [[0.05534473]]\n",
      "16 day input [0.59712007 0.57887941 0.58943807 0.56751986 0.59128502 0.60436076\n",
      " 0.60369063 0.60172927 0.60797293 0.60892092 0.62570691 0.66555523\n",
      " 0.67528031 0.66852996 0.679628   0.66973947 0.66841555 0.06335197\n",
      " 0.07175313 0.06720931 0.05001471 0.05014547 0.0368409  0.04419601\n",
      " 0.03793599 0.03550064 0.04098428 0.04128665 0.03571312 0.03278742\n",
      " 0.02706678 0.03236246 0.03519009 0.02752444 0.02932235 0.03595829\n",
      " 0.04033866 0.03891667 0.04172796 0.04332974 0.03716779 0.04285574\n",
      " 0.03739662 0.0405348  0.04035501 0.04362394 0.05576804 0.05037429\n",
      " 0.0505214  0.04973685 0.0469746  0.04200582 0.04450655 0.04346049\n",
      " 0.04162989 0.04046942 0.04048576 0.04301919 0.03419306 0.04092707\n",
      " 0.03036841 0.03022131 0.03295087 0.04032232 0.04699095 0.04643523\n",
      " 0.04256154 0.04198947 0.0477428  0.04728515 0.04736687 0.04906672\n",
      " 0.04757935 0.04535648 0.0463535  0.04422869 0.0385244  0.0406819\n",
      " 0.04208754 0.04300284 0.04702363 0.05302213 0.05361054 0.05338171\n",
      " 0.04932845 0.05064149 0.05143947 0.0519211  0.05225042 0.05252303\n",
      " 0.05278342 0.05304794 0.05332031 0.05359983 0.05388477 0.05417352\n",
      " 0.05446482 0.05475765 0.05505117 0.05534473]\n"
     ]
    },
    {
     "name": "stdout",
     "output_type": "stream",
     "text": [
      "16 day output [[0.05563776]]\n",
      "17 day input [0.57887941 0.58943807 0.56751986 0.59128502 0.60436076 0.60369063\n",
      " 0.60172927 0.60797293 0.60892092 0.62570691 0.66555523 0.67528031\n",
      " 0.66852996 0.679628   0.66973947 0.66841555 0.06335197 0.07175313\n",
      " 0.06720931 0.05001471 0.05014547 0.0368409  0.04419601 0.03793599\n",
      " 0.03550064 0.04098428 0.04128665 0.03571312 0.03278742 0.02706678\n",
      " 0.03236246 0.03519009 0.02752444 0.02932235 0.03595829 0.04033866\n",
      " 0.03891667 0.04172796 0.04332974 0.03716779 0.04285574 0.03739662\n",
      " 0.0405348  0.04035501 0.04362394 0.05576804 0.05037429 0.0505214\n",
      " 0.04973685 0.0469746  0.04200582 0.04450655 0.04346049 0.04162989\n",
      " 0.04046942 0.04048576 0.04301919 0.03419306 0.04092707 0.03036841\n",
      " 0.03022131 0.03295087 0.04032232 0.04699095 0.04643523 0.04256154\n",
      " 0.04198947 0.0477428  0.04728515 0.04736687 0.04906672 0.04757935\n",
      " 0.04535648 0.0463535  0.04422869 0.0385244  0.0406819  0.04208754\n",
      " 0.04300284 0.04702363 0.05302213 0.05361054 0.05338171 0.04932845\n",
      " 0.05064149 0.05143947 0.0519211  0.05225042 0.05252303 0.05278342\n",
      " 0.05304794 0.05332031 0.05359983 0.05388477 0.05417352 0.05446482\n",
      " 0.05475765 0.05505117 0.05534473 0.05563776]\n",
      "17 day output [[0.05592979]]\n",
      "18 day input [0.58943807 0.56751986 0.59128502 0.60436076 0.60369063 0.60172927\n",
      " 0.60797293 0.60892092 0.62570691 0.66555523 0.67528031 0.66852996\n",
      " 0.679628   0.66973947 0.66841555 0.06335197 0.07175313 0.06720931\n",
      " 0.05001471 0.05014547 0.0368409  0.04419601 0.03793599 0.03550064\n",
      " 0.04098428 0.04128665 0.03571312 0.03278742 0.02706678 0.03236246\n",
      " 0.03519009 0.02752444 0.02932235 0.03595829 0.04033866 0.03891667\n",
      " 0.04172796 0.04332974 0.03716779 0.04285574 0.03739662 0.0405348\n",
      " 0.04035501 0.04362394 0.05576804 0.05037429 0.0505214  0.04973685\n",
      " 0.0469746  0.04200582 0.04450655 0.04346049 0.04162989 0.04046942\n",
      " 0.04048576 0.04301919 0.03419306 0.04092707 0.03036841 0.03022131\n",
      " 0.03295087 0.04032232 0.04699095 0.04643523 0.04256154 0.04198947\n",
      " 0.0477428  0.04728515 0.04736687 0.04906672 0.04757935 0.04535648\n",
      " 0.0463535  0.04422869 0.0385244  0.0406819  0.04208754 0.04300284\n",
      " 0.04702363 0.05302213 0.05361054 0.05338171 0.04932845 0.05064149\n",
      " 0.05143947 0.0519211  0.05225042 0.05252303 0.05278342 0.05304794\n",
      " 0.05332031 0.05359983 0.05388477 0.05417352 0.05446482 0.05475765\n",
      " 0.05505117 0.05534473 0.05563776 0.05592979]\n",
      "18 day output [[0.0562205]]\n",
      "19 day input [0.56751986 0.59128502 0.60436076 0.60369063 0.60172927 0.60797293\n",
      " 0.60892092 0.62570691 0.66555523 0.67528031 0.66852996 0.679628\n",
      " 0.66973947 0.66841555 0.06335197 0.07175313 0.06720931 0.05001471\n",
      " 0.05014547 0.0368409  0.04419601 0.03793599 0.03550064 0.04098428\n",
      " 0.04128665 0.03571312 0.03278742 0.02706678 0.03236246 0.03519009\n",
      " 0.02752444 0.02932235 0.03595829 0.04033866 0.03891667 0.04172796\n",
      " 0.04332974 0.03716779 0.04285574 0.03739662 0.0405348  0.04035501\n",
      " 0.04362394 0.05576804 0.05037429 0.0505214  0.04973685 0.0469746\n",
      " 0.04200582 0.04450655 0.04346049 0.04162989 0.04046942 0.04048576\n",
      " 0.04301919 0.03419306 0.04092707 0.03036841 0.03022131 0.03295087\n",
      " 0.04032232 0.04699095 0.04643523 0.04256154 0.04198947 0.0477428\n",
      " 0.04728515 0.04736687 0.04906672 0.04757935 0.04535648 0.0463535\n",
      " 0.04422869 0.0385244  0.0406819  0.04208754 0.04300284 0.04702363\n",
      " 0.05302213 0.05361054 0.05338171 0.04932845 0.05064149 0.05143947\n",
      " 0.0519211  0.05225042 0.05252303 0.05278342 0.05304794 0.05332031\n",
      " 0.05359983 0.05388477 0.05417352 0.05446482 0.05475765 0.05505117\n",
      " 0.05534473 0.05563776 0.05592979 0.0562205 ]\n",
      "19 day output [[0.0565096]]\n",
      "20 day input [0.59128502 0.60436076 0.60369063 0.60172927 0.60797293 0.60892092\n",
      " 0.62570691 0.66555523 0.67528031 0.66852996 0.679628   0.66973947\n",
      " 0.66841555 0.06335197 0.07175313 0.06720931 0.05001471 0.05014547\n",
      " 0.0368409  0.04419601 0.03793599 0.03550064 0.04098428 0.04128665\n",
      " 0.03571312 0.03278742 0.02706678 0.03236246 0.03519009 0.02752444\n",
      " 0.02932235 0.03595829 0.04033866 0.03891667 0.04172796 0.04332974\n",
      " 0.03716779 0.04285574 0.03739662 0.0405348  0.04035501 0.04362394\n",
      " 0.05576804 0.05037429 0.0505214  0.04973685 0.0469746  0.04200582\n",
      " 0.04450655 0.04346049 0.04162989 0.04046942 0.04048576 0.04301919\n",
      " 0.03419306 0.04092707 0.03036841 0.03022131 0.03295087 0.04032232\n",
      " 0.04699095 0.04643523 0.04256154 0.04198947 0.0477428  0.04728515\n",
      " 0.04736687 0.04906672 0.04757935 0.04535648 0.0463535  0.04422869\n",
      " 0.0385244  0.0406819  0.04208754 0.04300284 0.04702363 0.05302213\n",
      " 0.05361054 0.05338171 0.04932845 0.05064149 0.05143947 0.0519211\n",
      " 0.05225042 0.05252303 0.05278342 0.05304794 0.05332031 0.05359983\n",
      " 0.05388477 0.05417352 0.05446482 0.05475765 0.05505117 0.05534473\n",
      " 0.05563776 0.05592979 0.0562205  0.0565096 ]\n",
      "20 day output [[0.05679689]]\n",
      "21 day input [0.60436076 0.60369063 0.60172927 0.60797293 0.60892092 0.62570691\n",
      " 0.66555523 0.67528031 0.66852996 0.679628   0.66973947 0.66841555\n",
      " 0.06335197 0.07175313 0.06720931 0.05001471 0.05014547 0.0368409\n",
      " 0.04419601 0.03793599 0.03550064 0.04098428 0.04128665 0.03571312\n",
      " 0.03278742 0.02706678 0.03236246 0.03519009 0.02752444 0.02932235\n",
      " 0.03595829 0.04033866 0.03891667 0.04172796 0.04332974 0.03716779\n",
      " 0.04285574 0.03739662 0.0405348  0.04035501 0.04362394 0.05576804\n",
      " 0.05037429 0.0505214  0.04973685 0.0469746  0.04200582 0.04450655\n",
      " 0.04346049 0.04162989 0.04046942 0.04048576 0.04301919 0.03419306\n",
      " 0.04092707 0.03036841 0.03022131 0.03295087 0.04032232 0.04699095\n",
      " 0.04643523 0.04256154 0.04198947 0.0477428  0.04728515 0.04736687\n",
      " 0.04906672 0.04757935 0.04535648 0.0463535  0.04422869 0.0385244\n",
      " 0.0406819  0.04208754 0.04300284 0.04702363 0.05302213 0.05361054\n",
      " 0.05338171 0.04932845 0.05064149 0.05143947 0.0519211  0.05225042\n",
      " 0.05252303 0.05278342 0.05304794 0.05332031 0.05359983 0.05388477\n",
      " 0.05417352 0.05446482 0.05475765 0.05505117 0.05534473 0.05563776\n",
      " 0.05592979 0.0562205  0.0565096  0.05679689]\n",
      "21 day output [[0.05708225]]\n",
      "22 day input [0.60369063 0.60172927 0.60797293 0.60892092 0.62570691 0.66555523\n",
      " 0.67528031 0.66852996 0.679628   0.66973947 0.66841555 0.06335197\n",
      " 0.07175313 0.06720931 0.05001471 0.05014547 0.0368409  0.04419601\n",
      " 0.03793599 0.03550064 0.04098428 0.04128665 0.03571312 0.03278742\n",
      " 0.02706678 0.03236246 0.03519009 0.02752444 0.02932235 0.03595829\n",
      " 0.04033866 0.03891667 0.04172796 0.04332974 0.03716779 0.04285574\n",
      " 0.03739662 0.0405348  0.04035501 0.04362394 0.05576804 0.05037429\n",
      " 0.0505214  0.04973685 0.0469746  0.04200582 0.04450655 0.04346049\n",
      " 0.04162989 0.04046942 0.04048576 0.04301919 0.03419306 0.04092707\n",
      " 0.03036841 0.03022131 0.03295087 0.04032232 0.04699095 0.04643523\n",
      " 0.04256154 0.04198947 0.0477428  0.04728515 0.04736687 0.04906672\n",
      " 0.04757935 0.04535648 0.0463535  0.04422869 0.0385244  0.0406819\n",
      " 0.04208754 0.04300284 0.04702363 0.05302213 0.05361054 0.05338171\n",
      " 0.04932845 0.05064149 0.05143947 0.0519211  0.05225042 0.05252303\n",
      " 0.05278342 0.05304794 0.05332031 0.05359983 0.05388477 0.05417352\n",
      " 0.05446482 0.05475765 0.05505117 0.05534473 0.05563776 0.05592979\n",
      " 0.0562205  0.0565096  0.05679689 0.05708225]\n",
      "22 day output [[0.05736562]]\n",
      "23 day input [0.60172927 0.60797293 0.60892092 0.62570691 0.66555523 0.67528031\n",
      " 0.66852996 0.679628   0.66973947 0.66841555 0.06335197 0.07175313\n",
      " 0.06720931 0.05001471 0.05014547 0.0368409  0.04419601 0.03793599\n",
      " 0.03550064 0.04098428 0.04128665 0.03571312 0.03278742 0.02706678\n",
      " 0.03236246 0.03519009 0.02752444 0.02932235 0.03595829 0.04033866\n",
      " 0.03891667 0.04172796 0.04332974 0.03716779 0.04285574 0.03739662\n",
      " 0.0405348  0.04035501 0.04362394 0.05576804 0.05037429 0.0505214\n",
      " 0.04973685 0.0469746  0.04200582 0.04450655 0.04346049 0.04162989\n",
      " 0.04046942 0.04048576 0.04301919 0.03419306 0.04092707 0.03036841\n",
      " 0.03022131 0.03295087 0.04032232 0.04699095 0.04643523 0.04256154\n",
      " 0.04198947 0.0477428  0.04728515 0.04736687 0.04906672 0.04757935\n",
      " 0.04535648 0.0463535  0.04422869 0.0385244  0.0406819  0.04208754\n",
      " 0.04300284 0.04702363 0.05302213 0.05361054 0.05338171 0.04932845\n",
      " 0.05064149 0.05143947 0.0519211  0.05225042 0.05252303 0.05278342\n",
      " 0.05304794 0.05332031 0.05359983 0.05388477 0.05417352 0.05446482\n",
      " 0.05475765 0.05505117 0.05534473 0.05563776 0.05592979 0.0562205\n",
      " 0.0565096  0.05679689 0.05708225 0.05736562]\n",
      "23 day output [[0.05764693]]\n",
      "24 day input [0.60797293 0.60892092 0.62570691 0.66555523 0.67528031 0.66852996\n",
      " 0.679628   0.66973947 0.66841555 0.06335197 0.07175313 0.06720931\n",
      " 0.05001471 0.05014547 0.0368409  0.04419601 0.03793599 0.03550064\n",
      " 0.04098428 0.04128665 0.03571312 0.03278742 0.02706678 0.03236246\n",
      " 0.03519009 0.02752444 0.02932235 0.03595829 0.04033866 0.03891667\n",
      " 0.04172796 0.04332974 0.03716779 0.04285574 0.03739662 0.0405348\n",
      " 0.04035501 0.04362394 0.05576804 0.05037429 0.0505214  0.04973685\n",
      " 0.0469746  0.04200582 0.04450655 0.04346049 0.04162989 0.04046942\n",
      " 0.04048576 0.04301919 0.03419306 0.04092707 0.03036841 0.03022131\n",
      " 0.03295087 0.04032232 0.04699095 0.04643523 0.04256154 0.04198947\n",
      " 0.0477428  0.04728515 0.04736687 0.04906672 0.04757935 0.04535648\n",
      " 0.0463535  0.04422869 0.0385244  0.0406819  0.04208754 0.04300284\n",
      " 0.04702363 0.05302213 0.05361054 0.05338171 0.04932845 0.05064149\n",
      " 0.05143947 0.0519211  0.05225042 0.05252303 0.05278342 0.05304794\n",
      " 0.05332031 0.05359983 0.05388477 0.05417352 0.05446482 0.05475765\n",
      " 0.05505117 0.05534473 0.05563776 0.05592979 0.0562205  0.0565096\n",
      " 0.05679689 0.05708225 0.05736562 0.05764693]\n",
      "24 day output [[0.05792616]]\n",
      "25 day input [0.60892092 0.62570691 0.66555523 0.67528031 0.66852996 0.679628\n",
      " 0.66973947 0.66841555 0.06335197 0.07175313 0.06720931 0.05001471\n",
      " 0.05014547 0.0368409  0.04419601 0.03793599 0.03550064 0.04098428\n",
      " 0.04128665 0.03571312 0.03278742 0.02706678 0.03236246 0.03519009\n",
      " 0.02752444 0.02932235 0.03595829 0.04033866 0.03891667 0.04172796\n",
      " 0.04332974 0.03716779 0.04285574 0.03739662 0.0405348  0.04035501\n",
      " 0.04362394 0.05576804 0.05037429 0.0505214  0.04973685 0.0469746\n",
      " 0.04200582 0.04450655 0.04346049 0.04162989 0.04046942 0.04048576\n",
      " 0.04301919 0.03419306 0.04092707 0.03036841 0.03022131 0.03295087\n",
      " 0.04032232 0.04699095 0.04643523 0.04256154 0.04198947 0.0477428\n",
      " 0.04728515 0.04736687 0.04906672 0.04757935 0.04535648 0.0463535\n",
      " 0.04422869 0.0385244  0.0406819  0.04208754 0.04300284 0.04702363\n",
      " 0.05302213 0.05361054 0.05338171 0.04932845 0.05064149 0.05143947\n",
      " 0.0519211  0.05225042 0.05252303 0.05278342 0.05304794 0.05332031\n",
      " 0.05359983 0.05388477 0.05417352 0.05446482 0.05475765 0.05505117\n",
      " 0.05534473 0.05563776 0.05592979 0.0562205  0.0565096  0.05679689\n",
      " 0.05708225 0.05736562 0.05764693 0.05792616]\n"
     ]
    },
    {
     "name": "stdout",
     "output_type": "stream",
     "text": [
      "25 day output [[0.05820334]]\n",
      "26 day input [0.62570691 0.66555523 0.67528031 0.66852996 0.679628   0.66973947\n",
      " 0.66841555 0.06335197 0.07175313 0.06720931 0.05001471 0.05014547\n",
      " 0.0368409  0.04419601 0.03793599 0.03550064 0.04098428 0.04128665\n",
      " 0.03571312 0.03278742 0.02706678 0.03236246 0.03519009 0.02752444\n",
      " 0.02932235 0.03595829 0.04033866 0.03891667 0.04172796 0.04332974\n",
      " 0.03716779 0.04285574 0.03739662 0.0405348  0.04035501 0.04362394\n",
      " 0.05576804 0.05037429 0.0505214  0.04973685 0.0469746  0.04200582\n",
      " 0.04450655 0.04346049 0.04162989 0.04046942 0.04048576 0.04301919\n",
      " 0.03419306 0.04092707 0.03036841 0.03022131 0.03295087 0.04032232\n",
      " 0.04699095 0.04643523 0.04256154 0.04198947 0.0477428  0.04728515\n",
      " 0.04736687 0.04906672 0.04757935 0.04535648 0.0463535  0.04422869\n",
      " 0.0385244  0.0406819  0.04208754 0.04300284 0.04702363 0.05302213\n",
      " 0.05361054 0.05338171 0.04932845 0.05064149 0.05143947 0.0519211\n",
      " 0.05225042 0.05252303 0.05278342 0.05304794 0.05332031 0.05359983\n",
      " 0.05388477 0.05417352 0.05446482 0.05475765 0.05505117 0.05534473\n",
      " 0.05563776 0.05592979 0.0562205  0.0565096  0.05679689 0.05708225\n",
      " 0.05736562 0.05764693 0.05792616 0.05820334]\n",
      "26 day output [[0.05847847]]\n",
      "27 day input [0.66555523 0.67528031 0.66852996 0.679628   0.66973947 0.66841555\n",
      " 0.06335197 0.07175313 0.06720931 0.05001471 0.05014547 0.0368409\n",
      " 0.04419601 0.03793599 0.03550064 0.04098428 0.04128665 0.03571312\n",
      " 0.03278742 0.02706678 0.03236246 0.03519009 0.02752444 0.02932235\n",
      " 0.03595829 0.04033866 0.03891667 0.04172796 0.04332974 0.03716779\n",
      " 0.04285574 0.03739662 0.0405348  0.04035501 0.04362394 0.05576804\n",
      " 0.05037429 0.0505214  0.04973685 0.0469746  0.04200582 0.04450655\n",
      " 0.04346049 0.04162989 0.04046942 0.04048576 0.04301919 0.03419306\n",
      " 0.04092707 0.03036841 0.03022131 0.03295087 0.04032232 0.04699095\n",
      " 0.04643523 0.04256154 0.04198947 0.0477428  0.04728515 0.04736687\n",
      " 0.04906672 0.04757935 0.04535648 0.0463535  0.04422869 0.0385244\n",
      " 0.0406819  0.04208754 0.04300284 0.04702363 0.05302213 0.05361054\n",
      " 0.05338171 0.04932845 0.05064149 0.05143947 0.0519211  0.05225042\n",
      " 0.05252303 0.05278342 0.05304794 0.05332031 0.05359983 0.05388477\n",
      " 0.05417352 0.05446482 0.05475765 0.05505117 0.05534473 0.05563776\n",
      " 0.05592979 0.0562205  0.0565096  0.05679689 0.05708225 0.05736562\n",
      " 0.05764693 0.05792616 0.05820334 0.05847847]\n",
      "27 day output [[0.05875157]]\n",
      "28 day input [0.67528031 0.66852996 0.679628   0.66973947 0.66841555 0.06335197\n",
      " 0.07175313 0.06720931 0.05001471 0.05014547 0.0368409  0.04419601\n",
      " 0.03793599 0.03550064 0.04098428 0.04128665 0.03571312 0.03278742\n",
      " 0.02706678 0.03236246 0.03519009 0.02752444 0.02932235 0.03595829\n",
      " 0.04033866 0.03891667 0.04172796 0.04332974 0.03716779 0.04285574\n",
      " 0.03739662 0.0405348  0.04035501 0.04362394 0.05576804 0.05037429\n",
      " 0.0505214  0.04973685 0.0469746  0.04200582 0.04450655 0.04346049\n",
      " 0.04162989 0.04046942 0.04048576 0.04301919 0.03419306 0.04092707\n",
      " 0.03036841 0.03022131 0.03295087 0.04032232 0.04699095 0.04643523\n",
      " 0.04256154 0.04198947 0.0477428  0.04728515 0.04736687 0.04906672\n",
      " 0.04757935 0.04535648 0.0463535  0.04422869 0.0385244  0.0406819\n",
      " 0.04208754 0.04300284 0.04702363 0.05302213 0.05361054 0.05338171\n",
      " 0.04932845 0.05064149 0.05143947 0.0519211  0.05225042 0.05252303\n",
      " 0.05278342 0.05304794 0.05332031 0.05359983 0.05388477 0.05417352\n",
      " 0.05446482 0.05475765 0.05505117 0.05534473 0.05563776 0.05592979\n",
      " 0.0562205  0.0565096  0.05679689 0.05708225 0.05736562 0.05764693\n",
      " 0.05792616 0.05820334 0.05847847 0.05875157]\n",
      "28 day output [[0.05902267]]\n",
      "29 day input [0.66852996 0.679628   0.66973947 0.66841555 0.06335197 0.07175313\n",
      " 0.06720931 0.05001471 0.05014547 0.0368409  0.04419601 0.03793599\n",
      " 0.03550064 0.04098428 0.04128665 0.03571312 0.03278742 0.02706678\n",
      " 0.03236246 0.03519009 0.02752444 0.02932235 0.03595829 0.04033866\n",
      " 0.03891667 0.04172796 0.04332974 0.03716779 0.04285574 0.03739662\n",
      " 0.0405348  0.04035501 0.04362394 0.05576804 0.05037429 0.0505214\n",
      " 0.04973685 0.0469746  0.04200582 0.04450655 0.04346049 0.04162989\n",
      " 0.04046942 0.04048576 0.04301919 0.03419306 0.04092707 0.03036841\n",
      " 0.03022131 0.03295087 0.04032232 0.04699095 0.04643523 0.04256154\n",
      " 0.04198947 0.0477428  0.04728515 0.04736687 0.04906672 0.04757935\n",
      " 0.04535648 0.0463535  0.04422869 0.0385244  0.0406819  0.04208754\n",
      " 0.04300284 0.04702363 0.05302213 0.05361054 0.05338171 0.04932845\n",
      " 0.05064149 0.05143947 0.0519211  0.05225042 0.05252303 0.05278342\n",
      " 0.05304794 0.05332031 0.05359983 0.05388477 0.05417352 0.05446482\n",
      " 0.05475765 0.05505117 0.05534473 0.05563776 0.05592979 0.0562205\n",
      " 0.0565096  0.05679689 0.05708225 0.05736562 0.05764693 0.05792616\n",
      " 0.05820334 0.05847847 0.05875157 0.05902267]\n",
      "29 day output [[0.05929181]]\n",
      "[[0.049328453838825226], [0.050641488283872604], [0.051439471542835236], [0.051921095699071884], [0.052250415086746216], [0.05252303183078766], [0.05278342217206955], [0.053047943860292435], [0.05332031100988388], [0.05359983071684837], [0.05388477072119713], [0.05417351797223091], [0.05446482449769974], [0.05475764721632004], [0.05505117028951645], [0.055344730615615845], [0.05563775822520256], [0.055929794907569885], [0.05622050166130066], [0.0565095990896225], [0.05679688602685928], [0.05708225443959236], [0.05736561864614487], [0.05764693021774292], [0.05792615935206413], [0.05820333957672119], [0.0584784671664238], [0.05875157192349434], [0.05902266874909401], [0.05929180979728699]]\n"
     ]
    }
   ],
   "source": [
    "# demonstrate prediction for next 10 days\n",
    "from numpy import array\n",
    "\n",
    "lst_output=[]\n",
    "n_steps=100\n",
    "i=0\n",
    "while(i<30):\n",
    "    \n",
    "    if(len(temp_input)>100):\n",
    "        #print(temp_input)\n",
    "        x_input=np.array(temp_input[1:])\n",
    "        print(\"{} day input {}\".format(i,x_input))\n",
    "        x_input=x_input.reshape(1,-1)\n",
    "        x_input = x_input.reshape((1, n_steps, 1))\n",
    "        #print(x_input)\n",
    "        yhat = model.predict(x_input, verbose=0)\n",
    "        print(\"{} day output {}\".format(i,yhat))\n",
    "        temp_input.extend(yhat[0].tolist())\n",
    "        temp_input=temp_input[1:]\n",
    "        #print(temp_input)\n",
    "        lst_output.extend(yhat.tolist())\n",
    "        i=i+1\n",
    "    else:\n",
    "        x_input = x_input.reshape((1, n_steps,1))\n",
    "        yhat = model.predict(x_input, verbose=0)\n",
    "        print(yhat[0])\n",
    "        temp_input.extend(yhat[0].tolist())\n",
    "        print(len(temp_input))\n",
    "        lst_output.extend(yhat.tolist())\n",
    "        i=i+1\n",
    "    \n",
    "\n",
    "print(lst_output)"
   ]
  },
  {
   "cell_type": "code",
   "execution_count": 65,
   "metadata": {},
   "outputs": [],
   "source": [
    "day_new=np.arange(1,101)\n",
    "day_pred=np.arange(101,131)"
   ]
  },
  {
   "cell_type": "code",
   "execution_count": 66,
   "metadata": {},
   "outputs": [],
   "source": [
    "import matplotlib.pyplot as plt"
   ]
  },
  {
   "cell_type": "code",
   "execution_count": 67,
   "metadata": {},
   "outputs": [
    {
     "data": {
      "text/plain": [
       "2750"
      ]
     },
     "execution_count": 67,
     "metadata": {},
     "output_type": "execute_result"
    }
   ],
   "source": [
    "len(df1)"
   ]
  },
  {
   "cell_type": "code",
   "execution_count": null,
   "metadata": {},
   "outputs": [],
   "source": []
  },
  {
   "cell_type": "code",
   "execution_count": 69,
   "metadata": {},
   "outputs": [
    {
     "data": {
      "text/plain": [
       "[<matplotlib.lines.Line2D at 0x1de09a9c390>]"
      ]
     },
     "execution_count": 69,
     "metadata": {},
     "output_type": "execute_result"
    },
    {
     "data": {
      "image/png": "[encoded data removed]",
      "text/plain": [
       "<Figure size 432x288 with 1 Axes>"
      ]
     },
     "metadata": {
      "needs_background": "light"
     },
     "output_type": "display_data"
    }
   ],
   "source": [
    "plt.plot(day_new,scaler.inverse_transform(df1[2650:]))\n",
    "plt.plot(day_pred,scaler.inverse_transform(lst_output))"
   ]
  },
  {
   "cell_type": "code",
   "execution_count": 71,
   "metadata": {},
   "outputs": [
    {
     "data": {
      "text/plain": [
       "[<matplotlib.lines.Line2D at 0x1de0ae96da0>]"
      ]
     },
     "execution_count": 71,
     "metadata": {},
     "output_type": "execute_result"
    },
    {
     "data": {
      "image/png": "[encoded data removed]",
      "text/plain": [
       "<Figure size 432x288 with 1 Axes>"
      ]
     },
     "metadata": {
      "needs_background": "light"
     },
     "output_type": "display_data"
    }
   ],
   "source": [
    "df3=df1.tolist()\n",
    "df3.extend(lst_output)\n",
    "plt.plot(df3[2650:])"
   ]
  },
  {
   "cell_type": "code",
   "execution_count": 72,
   "metadata": {},
   "outputs": [],
   "source": [
    "df3=scaler.inverse_transform(df3).tolist()"
   ]
  },
  {
   "cell_type": "code",
   "execution_count": 73,
   "metadata": {},
   "outputs": [
    {
     "data": {
      "text/plain": [
       "[<matplotlib.lines.Line2D at 0x1de0ae78e80>]"
      ]
     },
     "execution_count": 73,
     "metadata": {},
     "output_type": "execute_result"
    },
    {
     "data": {
      "image/png": "[encoded data removed]",
      "text/plain": [
       "<Figure size 432x288 with 1 Axes>"
      ]
     },
     "metadata": {
      "needs_background": "light"
     },
     "output_type": "display_data"
    }
   ],
   "source": [
    "plt.plot(df3)"
   ]
  }
 ],
 "metadata": {
  "kernelspec": {
   "display_name": "Python 3",
   "language": "python",
   "name": "python3"
  },
  "language_info": {
   "codemirror_mode": {
    "name": "ipython",
    "version": 3
   },
   "file_extension": ".py",
   "mimetype": "text/x-python",
   "name": "python",
   "nbconvert_exporter": "python",
   "pygments_lexer": "ipython3",
   "version": "3.8.5"
  }
 },
 "nbformat": 4,
 "nbformat_minor": 2
}
